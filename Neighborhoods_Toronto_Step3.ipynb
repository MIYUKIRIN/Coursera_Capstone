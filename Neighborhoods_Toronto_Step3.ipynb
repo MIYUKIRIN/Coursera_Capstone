{
 "cells": [
  {
   "cell_type": "markdown",
   "metadata": {},
   "source": [
    "Step 1 --- Collect and preprocess data"
   ]
  },
  {
   "cell_type": "code",
   "execution_count": 2,
   "metadata": {},
   "outputs": [],
   "source": [
    "import requests\n",
    "import json\n",
    "import pandas as pd"
   ]
  },
  {
   "cell_type": "markdown",
   "metadata": {},
   "source": [
    "import packages"
   ]
  },
  {
   "cell_type": "code",
   "execution_count": 3,
   "metadata": {},
   "outputs": [],
   "source": [
    "req = []\n",
    "url = \"https://en.wikipedia.org/wiki/List_of_postal_codes_of_Canada:_M\"\n",
    "r = requests.get(url)\n",
    "req.append(r.text)"
   ]
  },
  {
   "cell_type": "markdown",
   "metadata": {},
   "source": [
    "copy the web page on wikipedia"
   ]
  },
  {
   "cell_type": "code",
   "execution_count": 30,
   "metadata": {},
   "outputs": [
    {
     "data": {
      "text/plain": [
       "['\\n<!DOCTYPE html>\\n<html class=\"client-nojs\" lang=\"en\" dir=\"ltr\">\\n<head>\\n<meta charset=\"UTF-8\"/>\\n<title>List of postal codes of Canada: M - Wikipedia</title>\\n<script>document.documentElement.className=\"client-js\";RLCONF={\"wgBreakFrames\":!1,\"wgSeparatorTransformTable\":[\"\",\"\"],\"wgDigitTransformTable\":[\"\",\"\"],\"wgDefaultDateFormat\":\"dmy\",\"wgMonthNames\":[\"\",\"January\",\"February\",\"March\",\"April\",\"May\",\"June\",\"July\",\"August\",\"September\",\"October\",\"November\",\"December\"],\"wgRequestId\":\"XouPQgpAAEIAABWdATgAAABQ\",\"wgCSPNonce\":!1,\"wgCanonicalNamespace\":\"\",\"wgCanonicalSpecialPageName\":!1,\"wgNamespaceNumber\":0,\"wgPageName\":\"List_of_postal_codes_of_Canada:_M\",\"wgTitle\":\"List of postal codes of Canada: M\",\"wgCurRevisionId\":949497198,\"wgRevisionId\":949497198,\"wgArticleId\":539066,\"wgIsArticle\":!0,\"wgIsRedirect\":!1,\"wgAction\":\"view\",\"wgUserName\":null,\"wgUserGroups\":[\"*\"],\"wgCategories\":[\"Articles with short description\",\"Communications in Ontario\",\"Postal codes in Canada\",\"Toronto\",\"Ontario-related lists\"],\"wgPageContentLanguage\":\"en\",\"wgPageContentModel\":\"wikitext\",\"wgRelevantPageName\":\"List_of_postal_codes_of_Canada:_M\",\"wgRelevantArticleId\":539066,\\n\"wgIsProbablyEditable\":!0,\"wgRelevantPageIsProbablyEditable\":!0,\"wgRestrictionEdit\":[],\"wgRestrictionMove\":[],\"wgMediaViewerOnClick\":!0,\"wgMediaViewerEnabledByDefault\":!0,\"wgPopupsReferencePreviews\":!1,\"wgPopupsConflictsWithNavPopupGadget\":!1,\"wgVisualEditor\":{\"pageLanguageCode\":\"en\",\"pageLanguageDir\":\"ltr\",\"pageVariantFallbacks\":\"en\"},\"wgMFDisplayWikibaseDescriptions\":{\"search\":!0,\"nearby\":!0,\"watchlist\":!0,\"tagline\":!1},\"wgWMESchemaEditAttemptStepOversample\":!1,\"wgULSCurrentAutonym\":\"English\",\"wgNoticeProject\":\"wikipedia\",\"wgWikibaseItemId\":\"Q3248240\",\"wgCentralAuthMobileDomain\":!1,\"wgEditSubmitButtonLabelPublish\":!0};RLSTATE={\"ext.globalCssJs.user.styles\":\"ready\",\"site.styles\":\"ready\",\"noscript\":\"ready\",\"user.styles\":\"ready\",\"ext.globalCssJs.user\":\"ready\",\"user\":\"ready\",\"user.options\":\"loading\",\"ext.cite.styles\":\"ready\",\"skins.vector.styles.legacy\":\"ready\",\"wikibase.client.init\":\"ready\",\"ext.visualEditor.desktopArticleTarget.noscript\":\"ready\",\\n\"ext.uls.interlanguage\":\"ready\",\"ext.wikimediaBadges\":\"ready\"};RLPAGEMODULES=[\"ext.cite.ux-enhancements\",\"site\",\"mediawiki.page.startup\",\"skins.vector.js\",\"mediawiki.page.ready\",\"ext.gadget.ReferenceTooltips\",\"ext.gadget.charinsert\",\"ext.gadget.refToolbar\",\"ext.gadget.extra-toolbar-buttons\",\"ext.gadget.switcher\",\"ext.centralauth.centralautologin\",\"mmv.head\",\"mmv.bootstrap.autostart\",\"ext.popups\",\"ext.visualEditor.desktopArticleTarget.init\",\"ext.visualEditor.targetLoader\",\"ext.eventLogging\",\"ext.wikimediaEvents\",\"ext.navigationTiming\",\"ext.uls.compactlinks\",\"ext.uls.interface\",\"ext.cx.eventlogging.campaigns\",\"ext.quicksurveys.init\",\"ext.centralNotice.geoIP\",\"ext.centralNotice.startUp\"];</script>\\n<script>(RLQ=window.RLQ||[]).push(function(){mw.loader.implement(\"user.options@1hzgi\",function($,jQuery,require,module){/*@nomin*/mw.user.tokens.set({\"patrolToken\":\"+\\\\\\\\\",\"watchToken\":\"+\\\\\\\\\",\"csrfToken\":\"+\\\\\\\\\"});\\n});});</script>\\n<link rel=\"stylesheet\" href=\"/w/load.php?lang=en&amp;modules=ext.cite.styles%7Cext.uls.interlanguage%7Cext.visualEditor.desktopArticleTarget.noscript%7Cext.wikimediaBadges%7Cskins.vector.styles.legacy%7Cwikibase.client.init&amp;only=styles&amp;skin=vector\"/>\\n<script async=\"\" src=\"/w/load.php?lang=en&amp;modules=startup&amp;only=scripts&amp;raw=1&amp;skin=vector\"></script>\\n<meta name=\"ResourceLoaderDynamicStyles\" content=\"\"/>\\n<link rel=\"stylesheet\" href=\"/w/load.php?lang=en&amp;modules=site.styles&amp;only=styles&amp;skin=vector\"/>\\n<meta name=\"generator\" content=\"MediaWiki 1.35.0-wmf.26\"/>\\n<meta name=\"referrer\" content=\"origin\"/>\\n<meta name=\"referrer\" content=\"origin-when-crossorigin\"/>\\n<meta name=\"referrer\" content=\"origin-when-cross-origin\"/>\\n<link rel=\"alternate\" type=\"application/x-wiki\" title=\"Edit this page\" href=\"/w/index.php?title=List_of_postal_codes_of_Canada:_M&amp;action=edit\"/>\\n<link rel=\"edit\" title=\"Edit this page\" href=\"/w/index.php?title=List_of_postal_codes_of_Canada:_M&amp;action=edit\"/>\\n<link rel=\"apple-touch-icon\" href=\"/static/apple-touch/wikipedia.png\"/>\\n<link rel=\"shortcut icon\" href=\"/static/favicon/wikipedia.ico\"/>\\n<link rel=\"search\" type=\"application/opensearchdescription+xml\" href=\"/w/opensearch_desc.php\" title=\"Wikipedia (en)\"/>\\n<link rel=\"EditURI\" type=\"application/rsd+xml\" href=\"//en.wikipedia.org/w/api.php?action=rsd\"/>\\n<link rel=\"license\" href=\"//creativecommons.org/licenses/by-sa/3.0/\"/>\\n<link rel=\"alternate\" type=\"application/atom+xml\" title=\"Wikipedia Atom feed\" href=\"/w/index.php?title=Special:RecentChanges&amp;feed=atom\"/>\\n<link rel=\"canonical\" href=\"https://en.wikipedia.org/wiki/List_of_postal_codes_of_Canada:_M\"/>\\n<link rel=\"dns-prefetch\" href=\"//login.wikimedia.org\"/>\\n<link rel=\"dns-prefetch\" href=\"//meta.wikimedia.org\" />\\n<!--[if lt IE 9]><script src=\"/w/resources/lib/html5shiv/html5shiv.js\"></script><![endif]-->\\n</head>\\n<body class=\"mediawiki ltr sitedir-ltr mw-hide-empty-elt ns-0 ns-subject mw-editable page-List_of_postal_codes_of_Canada_M rootpage-List_of_postal_codes_of_Canada_M skin-vector action-view\">\\n<div id=\"mw-page-base\" class=\"noprint\"></div>\\n<div id=\"mw-head-base\" class=\"noprint\"></div>\\n<div id=\"content\" class=\"mw-body\" role=\"main\">\\n\\t<a id=\"top\"></a>\\n\\t<div id=\"siteNotice\" class=\"mw-body-content\"><!-- CentralNotice --></div>\\n\\t<div class=\"mw-indicators mw-body-content\">\\n</div>\\n\\n\\t<h1 id=\"firstHeading\" class=\"firstHeading\" lang=\"en\">List of postal codes of Canada: M</h1>\\n\\t\\n\\t<div id=\"bodyContent\" class=\"mw-body-content\">\\n\\t\\t<div id=\"siteSub\" class=\"noprint\">From Wikipedia, the free encyclopedia</div>\\n\\t\\t<div id=\"contentSub\"></div>\\n\\t\\t\\n\\t\\t\\n\\t\\t<div id=\"jump-to-nav\"></div>\\n\\t\\t<a class=\"mw-jump-link\" href=\"#mw-head\">Jump to navigation</a>\\n\\t\\t<a class=\"mw-jump-link\" href=\"#p-search\">Jump to search</a>\\n\\t\\t<div id=\"mw-content-text\" lang=\"en\" dir=\"ltr\" class=\"mw-content-ltr\"><div class=\"mw-parser-output\"><div class=\"shortdescription nomobile noexcerpt noprint searchaux\" style=\"display:none\">Wikipedia list article</div>\\n<p>This is a list of <a href=\"/wiki/Postal_codes_in_Canada\" title=\"Postal codes in Canada\">postal codes in Canada</a> where the first letter is M. Postal codes beginning with M are located within the city of <a href=\"/wiki/Toronto\" title=\"Toronto\">Toronto</a> in the province of <a href=\"/wiki/Ontario\" title=\"Ontario\">Ontario</a>. Only the first three characters are listed, corresponding to the Forward Sortation Area.\\n</p><p><a href=\"/wiki/Canada_Post\" title=\"Canada Post\">Canada Post</a> provides a free postal code look-up tool on its website,<sup id=\"cite_ref-1\" class=\"reference\"><a href=\"#cite_note-1\">&#91;1&#93;</a></sup> via its <a href=\"/wiki/Mobile_app\" title=\"Mobile app\">applications</a> for such <a href=\"/wiki/Smartphones\" class=\"mw-redirect\" title=\"Smartphones\">smartphones</a> as the <a href=\"/wiki/IPhone\" title=\"IPhone\">iPhone</a> and <a href=\"/wiki/BlackBerry\" title=\"BlackBerry\">BlackBerry</a>,<sup id=\"cite_ref-2\" class=\"reference\"><a href=\"#cite_note-2\">&#91;2&#93;</a></sup>  and sells hard-copy directories and <a href=\"/wiki/CD-ROM\" title=\"CD-ROM\">CD-ROMs</a>. Many vendors also sell validation tools, which allow customers to properly match addresses and postal codes. Hard-copy directories can also be consulted in all post offices, and some libraries.\\n</p>\\n<h2><span class=\"mw-headline\" id=\"Toronto_-_103_FSAs\"><a href=\"/wiki/Toronto\" title=\"Toronto\">Toronto</a> - 103 <a href=\"/wiki/Postal_codes_in_Canada#Forward_sortation_areas\" title=\"Postal codes in Canada\">FSAs</a></span><span class=\"mw-editsection\"><span class=\"mw-editsection-bracket\">[</span><a href=\"/w/index.php?title=List_of_postal_codes_of_Canada:_M&amp;action=edit&amp;section=1\" title=\"Edit section: Toronto - 103 FSAs\">edit</a><span class=\"mw-editsection-bracket\">]</span></span></h2>\\n<p>Note: There are no rural FSAs in Toronto, hence no postal codes should start with M0, however, the postal code M0R 8T0 is assigned to an <a href=\"/wiki/Amazon_(company)\" title=\"Amazon (company)\">Amazon</a> warehouse in Mississauga, suggesting that Canada Post may be allocating the M0 FSA for high volume addresses.\\n</p>\\n<table class=\"wikitable\">\\n<tbody><tr>\\n<th>Postal code\\n</th>\\n<th>Borough\\n</th>\\n<th>Neighborhood\\n</th></tr>\\n<tr>\\n<td>M1A\\n</td>\\n<td>Not assigned\\n</td>\\n<td>\\n</td></tr>\\n<tr>\\n<td>M2A\\n</td>\\n<td>Not assigned\\n</td>\\n<td>\\n</td></tr>\\n<tr>\\n<td>M3A\\n</td>\\n<td>North York\\n</td>\\n<td>Parkwoods\\n</td></tr>\\n<tr>\\n<td>M4A\\n</td>\\n<td>North York\\n</td>\\n<td>Victoria Village\\n</td></tr>\\n<tr>\\n<td>M5A\\n</td>\\n<td>Downtown Toronto\\n</td>\\n<td>Regent Park / Harbourfront\\n</td></tr>\\n<tr>\\n<td>M6A\\n</td>\\n<td>North York\\n</td>\\n<td>Lawrence Manor / Lawrence Heights\\n</td></tr>\\n<tr>\\n<td>M7A\\n</td>\\n<td>Downtown Toronto\\n</td>\\n<td>Queen\\'s Park / Ontario Provincial Government\\n</td></tr>\\n<tr>\\n<td>M8A\\n</td>\\n<td>Not assigned\\n</td>\\n<td>\\n</td></tr>\\n<tr>\\n<td>M9A\\n</td>\\n<td>Etobicoke\\n</td>\\n<td>Islington Avenue\\n</td></tr>\\n<tr>\\n<td>M1B\\n</td>\\n<td>Scarborough\\n</td>\\n<td>Malvern / Rouge\\n</td></tr>\\n<tr>\\n<td>M2B\\n</td>\\n<td>Not assigned\\n</td>\\n<td>\\n</td></tr>\\n<tr>\\n<td>M3B\\n</td>\\n<td>North York\\n</td>\\n<td>Don Mills\\n</td></tr>\\n<tr>\\n<td>M4B\\n</td>\\n<td>East York\\n</td>\\n<td>Parkview Hill / Woodbine Gardens\\n</td></tr>\\n<tr>\\n<td>M5B\\n</td>\\n<td>Downtown Toronto\\n</td>\\n<td>Garden District, Ryerson\\n</td></tr>\\n<tr>\\n<td>M6B\\n</td>\\n<td>North York\\n</td>\\n<td>Glencairn\\n</td></tr>\\n<tr>\\n<td>M7B\\n</td>\\n<td>Not assigned\\n</td>\\n<td>\\n</td></tr>\\n<tr>\\n<td>M8B\\n</td>\\n<td>Not assigned\\n</td>\\n<td>\\n</td></tr>\\n<tr>\\n<td>M9B\\n</td>\\n<td>Etobicoke\\n</td>\\n<td>West Deane Park / Princess Gardens / Martin Grove / Islington / Cloverdale\\n</td></tr>\\n<tr>\\n<td>M1C\\n</td>\\n<td>Scarborough\\n</td>\\n<td>Rouge Hill / Port Union / Highland Creek\\n</td></tr>\\n<tr>\\n<td>M2C\\n</td>\\n<td>Not assigned\\n</td>\\n<td>\\n</td></tr>\\n<tr>\\n<td>M3C\\n</td>\\n<td>North York\\n</td>\\n<td>Don Mills\\n</td></tr>\\n<tr>\\n<td>M4C\\n</td>\\n<td>East York\\n</td>\\n<td>Woodbine Heights\\n</td></tr>\\n<tr>\\n<td>M5C\\n</td>\\n<td>Downtown Toronto\\n</td>\\n<td>St. James Town\\n</td></tr>\\n<tr>\\n<td>M6C\\n</td>\\n<td>York\\n</td>\\n<td>Humewood-Cedarvale\\n</td></tr>\\n<tr>\\n<td>M7C\\n</td>\\n<td>Not assigned\\n</td>\\n<td>\\n</td></tr>\\n<tr>\\n<td>M8C\\n</td>\\n<td>Not assigned\\n</td>\\n<td>\\n</td></tr>\\n<tr>\\n<td>M9C\\n</td>\\n<td>Etobicoke\\n</td>\\n<td>Eringate / Bloordale Gardens / Old Burnhamthorpe / Markland Wood\\n</td></tr>\\n<tr>\\n<td>M1E\\n</td>\\n<td>Scarborough\\n</td>\\n<td>Guildwood / Morningside / West Hill\\n</td></tr>\\n<tr>\\n<td>M2E\\n</td>\\n<td>Not assigned\\n</td>\\n<td>\\n</td></tr>\\n<tr>\\n<td>M3E\\n</td>\\n<td>Not assigned\\n</td>\\n<td>\\n</td></tr>\\n<tr>\\n<td>M4E\\n</td>\\n<td>East Toronto\\n</td>\\n<td>The Beaches\\n</td></tr>\\n<tr>\\n<td>M5E\\n</td>\\n<td>Downtown Toronto\\n</td>\\n<td>Berczy Park\\n</td></tr>\\n<tr>\\n<td>M6E\\n</td>\\n<td>York\\n</td>\\n<td>Caledonia-Fairbanks\\n</td></tr>\\n<tr>\\n<td>M7E\\n</td>\\n<td>Not assigned\\n</td>\\n<td>\\n</td></tr>\\n<tr>\\n<td>M8E\\n</td>\\n<td>Not assigned\\n</td>\\n<td>\\n</td></tr>\\n<tr>\\n<td>M9E\\n</td>\\n<td>Not assigned\\n</td>\\n<td>\\n</td></tr>\\n<tr>\\n<td>M1G\\n</td>\\n<td>Scarborough\\n</td>\\n<td>Woburn\\n</td></tr>\\n<tr>\\n<td>M2G\\n</td>\\n<td>Not assigned\\n</td>\\n<td>\\n</td></tr>\\n<tr>\\n<td>M3G\\n</td>\\n<td>Not assigned\\n</td>\\n<td>\\n</td></tr>\\n<tr>\\n<td>M4G\\n</td>\\n<td>East York\\n</td>\\n<td>Leaside\\n</td></tr>\\n<tr>\\n<td>M5G\\n</td>\\n<td>Downtown Toronto\\n</td>\\n<td>Central Bay Street\\n</td></tr>\\n<tr>\\n<td>M6G\\n</td>\\n<td>Downtown Toronto\\n</td>\\n<td>Christie\\n</td></tr>\\n<tr>\\n<td>M7G\\n</td>\\n<td>Not assigned\\n</td>\\n<td>\\n</td></tr>\\n<tr>\\n<td>M8G\\n</td>\\n<td>Not assigned\\n</td>\\n<td>\\n</td></tr>\\n<tr>\\n<td>M9G\\n</td>\\n<td>Not assigned\\n</td>\\n<td>\\n</td></tr>\\n<tr>\\n<td>M1H\\n</td>\\n<td>Scarborough\\n</td>\\n<td>Cedarbrae\\n</td></tr>\\n<tr>\\n<td>M2H\\n</td>\\n<td>North York\\n</td>\\n<td>Hillcrest Village\\n</td></tr>\\n<tr>\\n<td>M3H\\n</td>\\n<td>North York\\n</td>\\n<td>Bathurst Manor / Wilson Heights / Downsview North\\n</td></tr>\\n<tr>\\n<td>M4H\\n</td>\\n<td>East York\\n</td>\\n<td>Thorncliffe Park\\n</td></tr>\\n<tr>\\n<td>M5H\\n</td>\\n<td>Downtown Toronto\\n</td>\\n<td>Richmond / Adelaide / King\\n</td></tr>\\n<tr>\\n<td>M6H\\n</td>\\n<td>West Toronto\\n</td>\\n<td>Dufferin / Dovercourt Village\\n</td></tr>\\n<tr>\\n<td>M7H\\n</td>\\n<td>Not assigned\\n</td>\\n<td>\\n</td></tr>\\n<tr>\\n<td>M8H\\n</td>\\n<td>Not assigned\\n</td>\\n<td>\\n</td></tr>\\n<tr>\\n<td>M9H\\n</td>\\n<td>Not assigned\\n</td>\\n<td>\\n</td></tr>\\n<tr>\\n<td>M1J\\n</td>\\n<td>Scarborough\\n</td>\\n<td>Scarborough Village\\n</td></tr>\\n<tr>\\n<td>M2J\\n</td>\\n<td>North York\\n</td>\\n<td>Fairview / Henry Farm / Oriole\\n</td></tr>\\n<tr>\\n<td>M3J\\n</td>\\n<td>North York\\n</td>\\n<td>Northwood Park / York University\\n</td></tr>\\n<tr>\\n<td>M4J\\n</td>\\n<td>East York\\n</td>\\n<td>East Toronto\\n</td></tr>\\n<tr>\\n<td>M5J\\n</td>\\n<td>Downtown Toronto\\n</td>\\n<td>Harbourfront East / Union Station / Toronto Islands\\n</td></tr>\\n<tr>\\n<td>M6J\\n</td>\\n<td>West Toronto\\n</td>\\n<td>Little Portugal / Trinity\\n</td></tr>\\n<tr>\\n<td>M7J\\n</td>\\n<td>Not assigned\\n</td>\\n<td>\\n</td></tr>\\n<tr>\\n<td>M8J\\n</td>\\n<td>Not assigned\\n</td>\\n<td>\\n</td></tr>\\n<tr>\\n<td>M9J\\n</td>\\n<td>Not assigned\\n</td>\\n<td>\\n</td></tr>\\n<tr>\\n<td>M1K\\n</td>\\n<td>Scarborough\\n</td>\\n<td>Kennedy Park / Ionview / East Birchmount Park\\n</td></tr>\\n<tr>\\n<td>M2K\\n</td>\\n<td>North York\\n</td>\\n<td>Bayview Village\\n</td></tr>\\n<tr>\\n<td>M3K\\n</td>\\n<td>North York\\n</td>\\n<td>Downsview\\n</td></tr>\\n<tr>\\n<td>M4K\\n</td>\\n<td>East Toronto\\n</td>\\n<td>The Danforth West / Riverdale\\n</td></tr>\\n<tr>\\n<td>M5K\\n</td>\\n<td>Downtown Toronto\\n</td>\\n<td>Toronto Dominion Centre / Design Exchange\\n</td></tr>\\n<tr>\\n<td>M6K\\n</td>\\n<td>West Toronto\\n</td>\\n<td>Brockton / Parkdale Village / Exhibition Place\\n</td></tr>\\n<tr>\\n<td>M7K\\n</td>\\n<td>Not assigned\\n</td>\\n<td>\\n</td></tr>\\n<tr>\\n<td>M8K\\n</td>\\n<td>Not assigned\\n</td>\\n<td>\\n</td></tr>\\n<tr>\\n<td>M9K\\n</td>\\n<td>Not assigned\\n</td>\\n<td>\\n</td></tr>\\n<tr>\\n<td>M1L\\n</td>\\n<td>Scarborough\\n</td>\\n<td>Golden Mile / Clairlea / Oakridge\\n</td></tr>\\n<tr>\\n<td>M2L\\n</td>\\n<td>North York\\n</td>\\n<td>York Mills / Silver Hills\\n</td></tr>\\n<tr>\\n<td>M3L\\n</td>\\n<td>North York\\n</td>\\n<td>Downsview\\n</td></tr>\\n<tr>\\n<td>M4L\\n</td>\\n<td>East Toronto\\n</td>\\n<td>India Bazaar / The Beaches West\\n</td></tr>\\n<tr>\\n<td>M5L\\n</td>\\n<td>Downtown Toronto\\n</td>\\n<td>Commerce Court / Victoria Hotel\\n</td></tr>\\n<tr>\\n<td>M6L\\n</td>\\n<td>North York\\n</td>\\n<td>North Park / Maple Leaf Park / Upwood Park\\n</td></tr>\\n<tr>\\n<td>M7L\\n</td>\\n<td>Not assigned\\n</td>\\n<td>\\n</td></tr>\\n<tr>\\n<td>M8L\\n</td>\\n<td>Not assigned\\n</td>\\n<td>\\n</td></tr>\\n<tr>\\n<td>M9L\\n</td>\\n<td>North York\\n</td>\\n<td>Humber Summit\\n</td></tr>\\n<tr>\\n<td>M1M\\n</td>\\n<td>Scarborough\\n</td>\\n<td>Cliffside / Cliffcrest / Scarborough Village West\\n</td></tr>\\n<tr>\\n<td>M2M\\n</td>\\n<td>North York\\n</td>\\n<td>Willowdale / Newtonbrook\\n</td></tr>\\n<tr>\\n<td>M3M\\n</td>\\n<td>North York\\n</td>\\n<td>Downsview\\n</td></tr>\\n<tr>\\n<td>M4M\\n</td>\\n<td>East Toronto\\n</td>\\n<td>Studio District\\n</td></tr>\\n<tr>\\n<td>M5M\\n</td>\\n<td>North York\\n</td>\\n<td>Bedford Park / Lawrence Manor East\\n</td></tr>\\n<tr>\\n<td>M6M\\n</td>\\n<td>York\\n</td>\\n<td>Del Ray / Mount Dennis / Keelsdale and Silverthorn\\n</td></tr>\\n<tr>\\n<td>M7M\\n</td>\\n<td>Not assigned\\n</td>\\n<td>\\n</td></tr>\\n<tr>\\n<td>M8M\\n</td>\\n<td>Not assigned\\n</td>\\n<td>\\n</td></tr>\\n<tr>\\n<td>M9M\\n</td>\\n<td>North York\\n</td>\\n<td>Humberlea / Emery\\n</td></tr>\\n<tr>\\n<td>M1N\\n</td>\\n<td>Scarborough\\n</td>\\n<td>Birch Cliff / Cliffside West\\n</td></tr>\\n<tr>\\n<td>M2N\\n</td>\\n<td>North York\\n</td>\\n<td>Willowdale\\n</td></tr>\\n<tr>\\n<td>M3N\\n</td>\\n<td>North York\\n</td>\\n<td>Downsview\\n</td></tr>\\n<tr>\\n<td>M4N\\n</td>\\n<td>Central Toronto\\n</td>\\n<td>Lawrence Park\\n</td></tr>\\n<tr>\\n<td>M5N\\n</td>\\n<td>Central Toronto\\n</td>\\n<td>Roselawn\\n</td></tr>\\n<tr>\\n<td>M6N\\n</td>\\n<td>York\\n</td>\\n<td>Runnymede / The Junction North\\n</td></tr>\\n<tr>\\n<td>M7N\\n</td>\\n<td>Not assigned\\n</td>\\n<td>\\n</td></tr>\\n<tr>\\n<td>M8N\\n</td>\\n<td>Not assigned\\n</td>\\n<td>\\n</td></tr>\\n<tr>\\n<td>M9N\\n</td>\\n<td>York\\n</td>\\n<td>Weston\\n</td></tr>\\n<tr>\\n<td>M1P\\n</td>\\n<td>Scarborough\\n</td>\\n<td>Dorset Park / Wexford Heights / Scarborough Town Centre\\n</td></tr>\\n<tr>\\n<td>M2P\\n</td>\\n<td>North York\\n</td>\\n<td>York Mills West\\n</td></tr>\\n<tr>\\n<td>M3P\\n</td>\\n<td>Not assigned\\n</td>\\n<td>\\n</td></tr>\\n<tr>\\n<td>M4P\\n</td>\\n<td>Central Toronto\\n</td>\\n<td>Davisville North\\n</td></tr>\\n<tr>\\n<td>M5P\\n</td>\\n<td>Central Toronto\\n</td>\\n<td>Forest Hill North &amp; West\\n</td></tr>\\n<tr>\\n<td>M6P\\n</td>\\n<td>West Toronto\\n</td>\\n<td>High Park / The Junction South\\n</td></tr>\\n<tr>\\n<td>M7P\\n</td>\\n<td>Not assigned\\n</td>\\n<td>\\n</td></tr>\\n<tr>\\n<td>M8P\\n</td>\\n<td>Not assigned\\n</td>\\n<td>\\n</td></tr>\\n<tr>\\n<td>M9P\\n</td>\\n<td>Etobicoke\\n</td>\\n<td>Westmount\\n</td></tr>\\n<tr>\\n<td>M1R\\n</td>\\n<td>Scarborough\\n</td>\\n<td>Wexford / Maryvale\\n</td></tr>\\n<tr>\\n<td>M2R\\n</td>\\n<td>North York\\n</td>\\n<td>Willowdale\\n</td></tr>\\n<tr>\\n<td>M3R\\n</td>\\n<td>Not assigned\\n</td>\\n<td>\\n</td></tr>\\n<tr>\\n<td>M4R\\n</td>\\n<td>Central Toronto\\n</td>\\n<td>North Toronto West\\n</td></tr>\\n<tr>\\n<td>M5R\\n</td>\\n<td>Central Toronto\\n</td>\\n<td>The Annex / North Midtown / Yorkville\\n</td></tr>\\n<tr>\\n<td>M6R\\n</td>\\n<td>West Toronto\\n</td>\\n<td>Parkdale / Roncesvalles\\n</td></tr>\\n<tr>\\n<td>M7R\\n</td>\\n<td>Mississauga\\n</td>\\n<td>Canada Post Gateway Processing Centre\\n</td></tr>\\n<tr>\\n<td>M8R\\n</td>\\n<td>Not assigned\\n</td>\\n<td>\\n</td></tr>\\n<tr>\\n<td>M9R\\n</td>\\n<td>Etobicoke\\n</td>\\n<td>Kingsview Village / St. Phillips / Martin Grove Gardens / Richview Gardens\\n</td></tr>\\n<tr>\\n<td>M1S\\n</td>\\n<td>Scarborough\\n</td>\\n<td>Agincourt\\n</td></tr>\\n<tr>\\n<td>M2S\\n</td>\\n<td>Not assigned\\n</td>\\n<td>\\n</td></tr>\\n<tr>\\n<td>M3S\\n</td>\\n<td>Not assigned\\n</td>\\n<td>\\n</td></tr>\\n<tr>\\n<td>M4S\\n</td>\\n<td>Central Toronto\\n</td>\\n<td>Davisville\\n</td></tr>\\n<tr>\\n<td>M5S\\n</td>\\n<td>Downtown Toronto\\n</td>\\n<td>University of Toronto / Harbord\\n</td></tr>\\n<tr>\\n<td>M6S\\n</td>\\n<td>West Toronto\\n</td>\\n<td>Runnymede / Swansea\\n</td></tr>\\n<tr>\\n<td>M7S\\n</td>\\n<td>Not assigned\\n</td>\\n<td>\\n</td></tr>\\n<tr>\\n<td>M8S\\n</td>\\n<td>Not assigned\\n</td>\\n<td>\\n</td></tr>\\n<tr>\\n<td>M9S\\n</td>\\n<td>Not assigned\\n</td>\\n<td>\\n</td></tr>\\n<tr>\\n<td>M1T\\n</td>\\n<td>Scarborough\\n</td>\\n<td>Clarks Corners / Tam O\\'Shanter / Sullivan\\n</td></tr>\\n<tr>\\n<td>M2T\\n</td>\\n<td>Not assigned\\n</td>\\n<td>\\n</td></tr>\\n<tr>\\n<td>M3T\\n</td>\\n<td>Not assigned\\n</td>\\n<td>\\n</td></tr>\\n<tr>\\n<td>M4T\\n</td>\\n<td>Central Toronto\\n</td>\\n<td>Moore Park / Summerhill East\\n</td></tr>\\n<tr>\\n<td>M5T\\n</td>\\n<td>Downtown Toronto\\n</td>\\n<td>Kensington Market / Chinatown / Grange Park\\n</td></tr>\\n<tr>\\n<td>M6T\\n</td>\\n<td>Not assigned\\n</td>\\n<td>\\n</td></tr>\\n<tr>\\n<td>M7T\\n</td>\\n<td>Not assigned\\n</td>\\n<td>\\n</td></tr>\\n<tr>\\n<td>M8T\\n</td>\\n<td>Not assigned\\n</td>\\n<td>\\n</td></tr>\\n<tr>\\n<td>M9T\\n</td>\\n<td>Not assigned\\n</td>\\n<td>\\n</td></tr>\\n<tr>\\n<td>M1V\\n</td>\\n<td>Scarborough\\n</td>\\n<td>Milliken / Agincourt North / Steeles East / L\\'Amoreaux East\\n</td></tr>\\n<tr>\\n<td>M2V\\n</td>\\n<td>Not assigned\\n</td>\\n<td>\\n</td></tr>\\n<tr>\\n<td>M3V\\n</td>\\n<td>Not assigned\\n</td>\\n<td>\\n</td></tr>\\n<tr>\\n<td>M4V\\n</td>\\n<td>Central Toronto\\n</td>\\n<td>Summerhill West / Rathnelly / South Hill / Forest Hill SE / Deer Park\\n</td></tr>\\n<tr>\\n<td>M5V\\n</td>\\n<td>Downtown Toronto\\n</td>\\n<td>CN Tower / King and Spadina / Railway Lands / Harbourfront West / Bathurst\\n<pre> Quay / South Niagara / Island airport\\n</pre>\\n</td></tr>\\n<tr>\\n<td>M6V\\n</td>\\n<td>Not assigned\\n</td>\\n<td>\\n</td></tr>\\n<tr>\\n<td>M7V\\n</td>\\n<td>Not assigned\\n</td>\\n<td>\\n</td></tr>\\n<tr>\\n<td>M8V\\n</td>\\n<td>Etobicoke\\n</td>\\n<td>New Toronto / Mimico South / Humber Bay Shores\\n</td></tr>\\n<tr>\\n<td>M9V\\n</td>\\n<td>Etobicoke\\n</td>\\n<td>South Steeles / Silverstone / Humbergate / Jamestown / Mount Olive / Beaumond Heights / Thistletown / Albion Gardens\\n</td></tr>\\n<tr>\\n<td>M1W\\n</td>\\n<td>Scarborough\\n</td>\\n<td>Steeles West / L\\'Amoreaux West\\n</td></tr>\\n<tr>\\n<td>M2W\\n</td>\\n<td>Not assigned\\n</td>\\n<td>\\n</td></tr>\\n<tr>\\n<td>M3W\\n</td>\\n<td>Not assigned\\n</td>\\n<td>\\n</td></tr>\\n<tr>\\n<td>M4W\\n</td>\\n<td>Downtown Toronto\\n</td>\\n<td>Rosedale\\n</td></tr>\\n<tr>\\n<td>M5W\\n</td>\\n<td>Downtown Toronto\\n</td>\\n<td>Stn A PO Boxes\\n</td></tr>\\n<tr>\\n<td>M6W\\n</td>\\n<td>Not assigned\\n</td>\\n<td>\\n</td></tr>\\n<tr>\\n<td>M7W\\n</td>\\n<td>Not assigned\\n</td>\\n<td>\\n</td></tr>\\n<tr>\\n<td>M8W\\n</td>\\n<td>Etobicoke\\n</td>\\n<td>Alderwood / Long Branch\\n</td></tr>\\n<tr>\\n<td>M9W\\n</td>\\n<td>Etobicoke\\n</td>\\n<td>Northwest\\n</td></tr>\\n<tr>\\n<td>M1X\\n</td>\\n<td>Scarborough\\n</td>\\n<td>Upper Rouge\\n</td></tr>\\n<tr>\\n<td>M2X\\n</td>\\n<td>Not assigned\\n</td>\\n<td>\\n</td></tr>\\n<tr>\\n<td>M3X\\n</td>\\n<td>Not assigned\\n</td>\\n<td>\\n</td></tr>\\n<tr>\\n<td>M4X\\n</td>\\n<td>Downtown Toronto\\n</td>\\n<td>St. James Town / Cabbagetown\\n</td></tr>\\n<tr>\\n<td>M5X\\n</td>\\n<td>Downtown Toronto\\n</td>\\n<td>First Canadian Place / Underground city\\n</td></tr>\\n<tr>\\n<td>M6X\\n</td>\\n<td>Not assigned\\n</td>\\n<td>\\n</td></tr>\\n<tr>\\n<td>M7X\\n</td>\\n<td>Not assigned\\n</td>\\n<td>\\n</td></tr>\\n<tr>\\n<td>M8X\\n</td>\\n<td>Etobicoke\\n</td>\\n<td>The Kingsway / Montgomery Road  / Old Mill North\\n</td></tr>\\n<tr>\\n<td>M9X\\n</td>\\n<td>Not assigned\\n</td>\\n<td>\\n</td></tr>\\n<tr>\\n<td>M1Y\\n</td>\\n<td>Not assigned\\n</td>\\n<td>\\n</td></tr>\\n<tr>\\n<td>M2Y\\n</td>\\n<td>Not assigned\\n</td>\\n<td>\\n</td></tr>\\n<tr>\\n<td>M3Y\\n</td>\\n<td>Not assigned\\n</td>\\n<td>\\n</td></tr>\\n<tr>\\n<td>M4Y\\n</td>\\n<td>Downtown Toronto\\n</td>\\n<td>Church and Wellesley\\n</td></tr>\\n<tr>\\n<td>M5Y\\n</td>\\n<td>Not assigned\\n</td>\\n<td>\\n</td></tr>\\n<tr>\\n<td>M6Y\\n</td>\\n<td>Not assigned\\n</td>\\n<td>\\n</td></tr>\\n<tr>\\n<td>M7Y\\n</td>\\n<td>East Toronto\\n</td>\\n<td>Business reply mail Processing CentrE\\n</td></tr>\\n<tr>\\n<td>M8Y\\n</td>\\n<td>Etobicoke\\n</td>\\n<td>Old Mill South / King\\'s Mill Park / Sunnylea / Humber Bay / Mimico NE / The Queensway East / Royal York South East / Kingsway Park South East\\n</td></tr>\\n<tr>\\n<td>M9Y\\n</td>\\n<td>Not assigned\\n</td>\\n<td>\\n</td></tr>\\n<tr>\\n<td>M1Z\\n</td>\\n<td>Not assigned\\n</td>\\n<td>\\n</td></tr>\\n<tr>\\n<td>M2Z\\n</td>\\n<td>Not assigned\\n</td>\\n<td>\\n</td></tr>\\n<tr>\\n<td>M3Z\\n</td>\\n<td>Not assigned\\n</td>\\n<td>\\n</td></tr>\\n<tr>\\n<td>M4Z\\n</td>\\n<td>Not assigned\\n</td>\\n<td>\\n</td></tr>\\n<tr>\\n<td>M5Z\\n</td>\\n<td>Not assigned\\n</td>\\n<td>\\n</td></tr>\\n<tr>\\n<td>M6Z\\n</td>\\n<td>Not assigned\\n</td>\\n<td>\\n</td></tr>\\n<tr>\\n<td>M7Z\\n</td>\\n<td>Not assigned\\n</td>\\n<td>\\n</td></tr>\\n<tr>\\n<td>M8Z\\n</td>\\n<td>Etobicoke\\n</td>\\n<td>Mimico NW / The Queensway West / South of Bloor / Kingsway Park South West / Royal York South West\\n</td></tr>\\n<tr>\\n<td>M9Z\\n</td>\\n<td>Not assigned\\n</td>\\n<td>\\n</td></tr></tbody></table>\\n<h2><span id=\"Most_populated_FSAs.5B3.5D\"></span><span class=\"mw-headline\" id=\"Most_populated_FSAs[3]\">Most populated FSAs<sup id=\"cite_ref-statcan_3-0\" class=\"reference\"><a href=\"#cite_note-statcan-3\">&#91;3&#93;</a></sup></span><span class=\"mw-editsection\"><span class=\"mw-editsection-bracket\">[</span><a href=\"/w/index.php?title=List_of_postal_codes_of_Canada:_M&amp;action=edit&amp;section=2\" title=\"Edit section: Most populated FSAs[3]\">edit</a><span class=\"mw-editsection-bracket\">]</span></span></h2>\\n<ol><li>M1B, 65,129http://www.rfc-editor.org/info/rfc7617</li>\\n<li>M2N, 60,124http://www.rfc-editor.org/info/rfc7617</li>\\n<li>M1V, 55,250http://www.rfc-editor.org/info/rfc7617</li>\\n<li>M9V, 55,159http://www.rfc-editor.org/info/rfc7617</li>\\n<li>M2J, 54,391http://www.rfc-editor.org/info/rfc7617</li></ol>\\n<h2><span id=\"Least_populated_FSAs.5B3.5D\"></span><span class=\"mw-headline\" id=\"Least_populated_FSAs[3]\">Least populated FSAs<sup id=\"cite_ref-statcan_3-1\" class=\"reference\"><a href=\"#cite_note-statcan-3\">&#91;3&#93;</a></sup></span><span class=\"mw-editsection\"><span class=\"mw-editsection-bracket\">[</span><a href=\"/w/index.php?title=List_of_postal_codes_of_Canada:_M&amp;action=edit&amp;section=3\" title=\"Edit section: Least populated FSAs[3]\">edit</a><span class=\"mw-editsection-bracket\">]</span></span></h2>\\n<ol><li>M5K, 5</li>\\n<li>M5L, 5</li>\\n<li>M5W, 5</li>\\n<li>M5X, 5</li>\\n<li>M7A, 5</li></ol>\\n<h2><span class=\"mw-headline\" id=\"References\">References</span><span class=\"mw-editsection\"><span class=\"mw-editsection-bracket\">[</span><a href=\"/w/index.php?title=List_of_postal_codes_of_Canada:_M&amp;action=edit&amp;section=4\" title=\"Edit section: References\">edit</a><span class=\"mw-editsection-bracket\">]</span></span></h2>\\n<div class=\"mw-references-wrap\"><ol class=\"references\">\\n<li id=\"cite_note-1\"><span class=\"mw-cite-backlink\"><b><a href=\"#cite_ref-1\">^</a></b></span> <span class=\"reference-text\">\\n<cite class=\"citation web\">Canada Post. <a rel=\"nofollow\" class=\"external text\" href=\"https://www.canadapost.ca/cpotools/apps/fpc/personal/findByCity?execution=e2s1\">\"Canada Post - Find a Postal Code\"</a><span class=\"reference-accessdate\">. Retrieved <span class=\"nowrap\">9 November</span> 2008</span>.</cite><span title=\"ctx_ver=Z39.88-2004&amp;rft_val_fmt=info%3Aofi%2Ffmt%3Akev%3Amtx%3Abook&amp;rft.genre=unknown&amp;rft.btitle=Canada+Post+-+Find+a+Postal+Code&amp;rft.au=Canada+Post&amp;rft_id=https%3A%2F%2Fwww.canadapost.ca%2Fcpotools%2Fapps%2Ffpc%2Fpersonal%2FfindByCity%3Fexecution%3De2s1&amp;rfr_id=info%3Asid%2Fen.wikipedia.org%3AList+of+postal+codes+of+Canada%3A+M\" class=\"Z3988\"></span><style data-mw-deduplicate=\"TemplateStyles:r935243608\">.mw-parser-output cite.citation{font-style:inherit}.mw-parser-output .citation q{quotes:\"\\\\\"\"\"\\\\\"\"\"\\'\"\"\\'\"}.mw-parser-output .id-lock-free a,.mw-parser-output .citation .cs1-lock-free a{background:url(\"//upload.wikimedia.org/wikipedia/commons/thumb/6/65/Lock-green.svg/9px-Lock-green.svg.png\")no-repeat;background-position:right .1em center}.mw-parser-output .id-lock-limited a,.mw-parser-output .id-lock-registration a,.mw-parser-output .citation .cs1-lock-limited a,.mw-parser-output .citation .cs1-lock-registration a{background:url(\"//upload.wikimedia.org/wikipedia/commons/thumb/d/d6/Lock-gray-alt-2.svg/9px-Lock-gray-alt-2.svg.png\")no-repeat;background-position:right .1em center}.mw-parser-output .id-lock-subscription a,.mw-parser-output .citation .cs1-lock-subscription a{background:url(\"//upload.wikimedia.org/wikipedia/commons/thumb/a/aa/Lock-red-alt-2.svg/9px-Lock-red-alt-2.svg.png\")no-repeat;background-position:right .1em center}.mw-parser-output .cs1-subscription,.mw-parser-output .cs1-registration{color:#555}.mw-parser-output .cs1-subscription span,.mw-parser-output .cs1-registration span{border-bottom:1px dotted;cursor:help}.mw-parser-output .cs1-ws-icon a{background:url(\"//upload.wikimedia.org/wikipedia/commons/thumb/4/4c/Wikisource-logo.svg/12px-Wikisource-logo.svg.png\")no-repeat;background-position:right .1em center}.mw-parser-output code.cs1-code{color:inherit;background:inherit;border:inherit;padding:inherit}.mw-parser-output .cs1-hidden-error{display:none;font-size:100%}.mw-parser-output .cs1-visible-error{font-size:100%}.mw-parser-output .cs1-maint{display:none;color:#33aa33;margin-left:0.3em}.mw-parser-output .cs1-subscription,.mw-parser-output .cs1-registration,.mw-parser-output .cs1-format{font-size:95%}.mw-parser-output .cs1-kern-left,.mw-parser-output .cs1-kern-wl-left{padding-left:0.2em}.mw-parser-output .cs1-kern-right,.mw-parser-output .cs1-kern-wl-right{padding-right:0.2em}</style></span>\\n</li>\\n<li id=\"cite_note-2\"><span class=\"mw-cite-backlink\"><b><a href=\"#cite_ref-2\">^</a></b></span> <span class=\"reference-text\"><cite class=\"citation web\"><a rel=\"nofollow\" class=\"external text\" href=\"https://web.archive.org/web/20110519093024/http://www.canadapost.ca/cpo/mc/personal/tools/mobileapp/default.jsf\">\"Mobile Apps\"</a>. Canada Post. Archived from <a rel=\"nofollow\" class=\"external text\" href=\"http://www.canadapost.ca/cpo/mc/personal/tools/mobileapp/default.jsf\">the original</a> on 2011-05-19.</cite><span title=\"ctx_ver=Z39.88-2004&amp;rft_val_fmt=info%3Aofi%2Ffmt%3Akev%3Amtx%3Abook&amp;rft.genre=unknown&amp;rft.btitle=Mobile+Apps&amp;rft.pub=Canada+Post&amp;rft_id=http%3A%2F%2Fwww.canadapost.ca%2Fcpo%2Fmc%2Fpersonal%2Ftools%2Fmobileapp%2Fdefault.jsf&amp;rfr_id=info%3Asid%2Fen.wikipedia.org%3AList+of+postal+codes+of+Canada%3A+M\" class=\"Z3988\"></span><link rel=\"mw-deduplicated-inline-style\" href=\"mw-data:TemplateStyles:r935243608\"/></span>\\n</li>\\n<li id=\"cite_note-statcan-3\"><span class=\"mw-cite-backlink\">^ <a href=\"#cite_ref-statcan_3-0\"><sup><i><b>a</b></i></sup></a> <a href=\"#cite_ref-statcan_3-1\"><sup><i><b>b</b></i></sup></a></span> <span class=\"reference-text\"><cite class=\"citation web\"><a rel=\"nofollow\" class=\"external text\" href=\"http://www12.statcan.ca/english/census06/data/popdwell/Table.cfm?T=1201&amp;SR=1&amp;S=0&amp;O=A&amp;RPP=9999&amp;PR=0&amp;CMA=0\">\"2006 Census of Population\"</a>. 15 October 2008.</cite><span title=\"ctx_ver=Z39.88-2004&amp;rft_val_fmt=info%3Aofi%2Ffmt%3Akev%3Amtx%3Abook&amp;rft.genre=unknown&amp;rft.btitle=2006+Census+of+Population&amp;rft.date=2008-10-15&amp;rft_id=http%3A%2F%2Fwww12.statcan.ca%2Fenglish%2Fcensus06%2Fdata%2Fpopdwell%2FTable.cfm%3FT%3D1201%26SR%3D1%26S%3D0%26O%3DA%26RPP%3D9999%26PR%3D0%26CMA%3D0&amp;rfr_id=info%3Asid%2Fen.wikipedia.org%3AList+of+postal+codes+of+Canada%3A+M\" class=\"Z3988\"></span><link rel=\"mw-deduplicated-inline-style\" href=\"mw-data:TemplateStyles:r935243608\"/></span>\\n</li>\\n</ol></div>\\n<table class=\"navbox\">\\n<tbody><tr>\\n<td style=\"width:36px; text-align:center\"><a href=\"/wiki/File:Flag_of_Canada.svg\" class=\"image\" title=\"Flag of Canada\"><img alt=\"Flag of Canada\" src=\"//upload.wikimedia.org/wikipedia/en/thumb/c/cf/Flag_of_Canada.svg/36px-Flag_of_Canada.svg.png\" decoding=\"async\" width=\"36\" height=\"18\" srcset=\"//upload.wikimedia.org/wikipedia/en/thumb/c/cf/Flag_of_Canada.svg/54px-Flag_of_Canada.svg.png 1.5x, //upload.wikimedia.org/wikipedia/en/thumb/c/cf/Flag_of_Canada.svg/72px-Flag_of_Canada.svg.png 2x\" data-file-width=\"1200\" data-file-height=\"600\" /></a>\\n</td>\\n<th class=\"navbox-title\" style=\"font-size:110%\"><a href=\"/wiki/Postal_codes_in_Canada\" title=\"Postal codes in Canada\">Canadian postal codes</a>\\n</th>\\n<td style=\"width:36px; text-align:center\"><a href=\"/wiki/File:Canadian_postal_district_map_(without_legends).svg\" class=\"image\"><img alt=\"Canadian postal district map (without legends).svg\" src=\"//upload.wikimedia.org/wikipedia/commons/thumb/e/eb/Canadian_postal_district_map_%28without_legends%29.svg/21px-Canadian_postal_district_map_%28without_legends%29.svg.png\" decoding=\"async\" width=\"21\" height=\"18\" srcset=\"//upload.wikimedia.org/wikipedia/commons/thumb/e/eb/Canadian_postal_district_map_%28without_legends%29.svg/32px-Canadian_postal_district_map_%28without_legends%29.svg.png 1.5x, //upload.wikimedia.org/wikipedia/commons/thumb/e/eb/Canadian_postal_district_map_%28without_legends%29.svg/43px-Canadian_postal_district_map_%28without_legends%29.svg.png 2x\" data-file-width=\"1000\" data-file-height=\"846\" /></a>\\n</td></tr>\\n<tr>\\n<td style=\"text-align:center; font-size: 100%;\" colspan=\"3\">\\n<table width=\"100%\" style=\"background-color: #F8F8F8;\" cellspacing=\"0\">\\n<tbody><tr>\\n<td style=\"text-align:center; border:1px solid #aaa;\"><a href=\"/wiki/Newfoundland_and_Labrador\" title=\"Newfoundland and Labrador\">NL</a>\\n</td>\\n<td style=\"text-align:center; border:1px solid #aaa;\"><a href=\"/wiki/Nova_Scotia\" title=\"Nova Scotia\">NS</a>\\n</td>\\n<td style=\"text-align:center; border:1px solid #aaa;\"><a href=\"/wiki/Prince_Edward_Island\" title=\"Prince Edward Island\">PE</a>\\n</td>\\n<td style=\"text-align:center; border:1px solid #aaa;\"><a href=\"/wiki/New_Brunswick\" title=\"New Brunswick\">NB</a>\\n</td>\\n<td style=\"text-align:center; border:1px solid #aaa;\" colspan=\"3\"><a href=\"/wiki/Quebec\" title=\"Quebec\">QC</a>\\n</td>\\n<td style=\"text-align:center; border:1px solid #aaa;\" colspan=\"5\"><a href=\"/wiki/Ontario\" title=\"Ontario\">ON</a>\\n</td>\\n<td style=\"text-align:center; border:1px solid #aaa;\"><a href=\"/wiki/Manitoba\" title=\"Manitoba\">MB</a>\\n</td>\\n<td style=\"text-align:center; border:1px solid #aaa;\"><a href=\"/wiki/Saskatchewan\" title=\"Saskatchewan\">SK</a>\\n</td>\\n<td style=\"text-align:center; border:1px solid #aaa;\"><a href=\"/wiki/Alberta\" title=\"Alberta\">AB</a>\\n</td>\\n<td style=\"text-align:center; border:1px solid #aaa;\"><a href=\"/wiki/British_Columbia\" title=\"British Columbia\">BC</a>\\n</td>\\n<td style=\"text-align:center; border:1px solid #aaa;\"><a href=\"/wiki/Nunavut\" title=\"Nunavut\">NU</a>/<a href=\"/wiki/Northwest_Territories\" title=\"Northwest Territories\">NT</a>\\n</td>\\n<td style=\"text-align:center; border:1px solid #aaa;\"><a href=\"/wiki/Yukon\" title=\"Yukon\">YT</a>\\n</td></tr>\\n<tr>\\n<td style=\"border: 1px solid #FF0000; background-color: #FFE0E0; font-size: 135%;\" align=\"center\" width=\"5%\"><a href=\"/wiki/List_of_postal_codes_of_Canada:_A\" title=\"List of postal codes of Canada: A\">A</a>\\n</td>\\n<td style=\"border: 1px solid #FF4000; background-color: #FFE8E0; font-size: 135%;\" align=\"center\" width=\"5%\"><a href=\"/wiki/List_of_postal_codes_of_Canada:_B\" title=\"List of postal codes of Canada: B\">B</a>\\n</td>\\n<td style=\"border: 1px solid #FF8000; background-color: #FFF0E0; font-size: 135%;\" align=\"center\" width=\"5%\"><a href=\"/wiki/List_of_postal_codes_of_Canada:_C\" title=\"List of postal codes of Canada: C\">C</a>\\n</td>\\n<td style=\"border: 1px solid #FFC000; background-color: #FFF8E0; font-size: 135%;\" align=\"center\" width=\"5%\"><a href=\"/wiki/List_of_postal_codes_of_Canada:_E\" title=\"List of postal codes of Canada: E\">E</a>\\n</td>\\n<td style=\"border: 1px solid #FFFF00; background-color: #FFFFE0; font-size: 135%;\" align=\"center\" width=\"5%\"><a href=\"/wiki/List_of_postal_codes_of_Canada:_G\" title=\"List of postal codes of Canada: G\">G</a>\\n</td>\\n<td style=\"border: 1px solid #C0FF00; background-color: #F8FFE0; font-size: 135%;\" align=\"center\" width=\"5%\"><a href=\"/wiki/List_of_postal_codes_of_Canada:_H\" title=\"List of postal codes of Canada: H\">H</a>\\n</td>\\n<td style=\"border: 1px solid #80FF00; background-color: #F0FFE0; font-size: 135%;\" align=\"center\" width=\"5%\"><a href=\"/wiki/List_of_postal_codes_of_Canada:_J\" title=\"List of postal codes of Canada: J\">J</a>\\n</td>\\n<td style=\"border: 1px solid #00FF00; background-color: #E0FFE0; font-size: 135%;\" align=\"center\" width=\"5%\"><a href=\"/wiki/List_of_postal_codes_of_Canada:_K\" title=\"List of postal codes of Canada: K\">K</a>\\n</td>\\n<td style=\"border: 1px solid #00FF80; background-color: #E0FFF0; font-size: 135%;\" align=\"center\" width=\"5%\"><a href=\"/wiki/List_of_postal_codes_of_Canada:_L\" title=\"List of postal codes of Canada: L\">L</a>\\n</td>\\n<td style=\"border: 1px solid #E0FFF8; background-color: #00FFC0; font-size: 135%; color: black;\" align=\"center\" width=\"5%\"><a class=\"mw-selflink selflink\">M</a>\\n</td>\\n<td style=\"border: 1px solid #00FFE0; background-color: #E0FFFC; font-size: 135%;\" align=\"center\" width=\"5%\"><a href=\"/wiki/List_of_postal_codes_of_Canada:_N\" title=\"List of postal codes of Canada: N\">N</a>\\n</td>\\n<td style=\"border: 1px solid #00FFFF; background-color: #E0FFFF; font-size: 135%;\" align=\"center\" width=\"5%\"><a href=\"/wiki/List_of_postal_codes_of_Canada:_P\" title=\"List of postal codes of Canada: P\">P</a>\\n</td>\\n<td style=\"border: 1px solid #00C0FF; background-color: #E0F8FF; font-size: 135%;\" align=\"center\" width=\"5%\"><a href=\"/wiki/List_of_postal_codes_of_Canada:_R\" title=\"List of postal codes of Canada: R\">R</a>\\n</td>\\n<td style=\"border: 1px solid #0080FF; background-color: #E0F0FF; font-size: 135%;\" align=\"center\" width=\"5%\"><a href=\"/wiki/List_of_postal_codes_of_Canada:_S\" title=\"List of postal codes of Canada: S\">S</a>\\n</td>\\n<td style=\"border: 1px solid #0040FF; background-color: #E0E8FF; font-size: 135%;\" align=\"center\" width=\"5%\"><a href=\"/wiki/List_of_postal_codes_of_Canada:_T\" title=\"List of postal codes of Canada: T\">T</a>\\n</td>\\n<td style=\"border: 1px solid #0000FF; background-color: #E0E0FF; font-size: 135%;\" align=\"center\" width=\"5%\"><a href=\"/wiki/List_of_postal_codes_of_Canada:_V\" title=\"List of postal codes of Canada: V\">V</a>\\n</td>\\n<td style=\"border: 1px solid #A000FF; background-color: #E8E0FF; font-size: 135%;\" align=\"center\" width=\"5%\"><a href=\"/wiki/List_of_postal_codes_of_Canada:_X\" title=\"List of postal codes of Canada: X\">X</a>\\n</td>\\n<td style=\"border: 1px solid #FF00FF; background-color: #FFE0FF; font-size: 135%;\" align=\"center\" width=\"5%\"><a href=\"/wiki/List_of_postal_codes_of_Canada:_Y\" title=\"List of postal codes of Canada: Y\">Y</a>\\n</td></tr></tbody></table>\\n</td></tr></tbody></table>\\n<!-- \\nNewPP limit report\\nParsed by mw1288\\nCached time: 20200406201723\\nCache expiry: 2592000\\nDynamic content: false\\nComplications: [vary‐revision‐sha1]\\nCPU time usage: 0.160 seconds\\nReal time usage: 0.208 seconds\\nPreprocessor visited node count: 251/1000000\\nPost‐expand include size: 10461/2097152 bytes\\nTemplate argument size: 195/2097152 bytes\\nHighest expansion depth: 8/40\\nExpensive parser function count: 0/500\\nUnstrip recursion depth: 1/20\\nUnstrip post‐expand size: 9490/5000000 bytes\\nNumber of Wikibase entities loaded: 0/400\\nLua time usage: 0.076/10.000 seconds\\nLua memory usage: 2.25 MB/50 MB\\n-->\\n<!--\\nTransclusion expansion time report (%,ms,calls,template)\\n100.00%  159.115      1 -total\\n 55.80%   88.781      3 Template:Cite_web\\n 36.25%   57.676      1 Template:Short_description\\n 24.82%   39.491      1 Template:Pagetype\\n  2.68%    4.270      1 Template:Canadian_postal_codes\\n  2.00%    3.179      1 Template:Main_other\\n-->\\n\\n<!-- Saved in parser cache with key enwiki:pcache:idhash:539066-0!canonical and timestamp 20200406201725 and revision id 949497198\\n -->\\n</div><noscript><img src=\"//en.wikipedia.org/wiki/Special:CentralAutoLogin/start?type=1x1\" alt=\"\" title=\"\" width=\"1\" height=\"1\" style=\"border: none; position: absolute;\" /></noscript></div>\\n\\t\\t<div class=\"printfooter\">Retrieved from \"<a dir=\"ltr\" href=\"https://en.wikipedia.org/w/index.php?title=List_of_postal_codes_of_Canada:_M&amp;oldid=949497198\">https://en.wikipedia.org/w/index.php?title=List_of_postal_codes_of_Canada:_M&amp;oldid=949497198</a>\"</div>\\n\\t\\t<div id=\"catlinks\" class=\"catlinks\" data-mw=\"interface\"><div id=\"mw-normal-catlinks\" class=\"mw-normal-catlinks\"><a href=\"/wiki/Help:Category\" title=\"Help:Category\">Categories</a>: <ul><li><a href=\"/wiki/Category:Communications_in_Ontario\" title=\"Category:Communications in Ontario\">Communications in Ontario</a></li><li><a href=\"/wiki/Category:Postal_codes_in_Canada\" title=\"Category:Postal codes in Canada\">Postal codes in Canada</a></li><li><a href=\"/wiki/Category:Toronto\" title=\"Category:Toronto\">Toronto</a></li><li><a href=\"/wiki/Category:Ontario-related_lists\" title=\"Category:Ontario-related lists\">Ontario-related lists</a></li></ul></div><div id=\"mw-hidden-catlinks\" class=\"mw-hidden-catlinks mw-hidden-cats-hidden\">Hidden categories: <ul><li><a href=\"/wiki/Category:Articles_with_short_description\" title=\"Category:Articles with short description\">Articles with short description</a></li></ul></div></div>\\n\\t\\t<div class=\"visualClear\"></div>\\n\\t\\t\\n\\t</div>\\n</div>\\n<div id=\\'mw-data-after-content\\'>\\n\\t<div class=\"read-more-container\"></div>\\n</div>\\n\\n<div id=\"mw-navigation\">\\n    <h2>Navigation menu</h2>\\n    <div id=\"mw-head\">\\n        \\n        <div id=\"p-personal\" role=\"navigation\" class=\"\" aria-labelledby=\"p-personal-label\">\\n        \\t<h3 id=\"p-personal-label\">Personal tools</h3>\\n        \\t<ul >\\n        \\t\\t\\n        \\t\\t<li id=\"pt-anonuserpage\">Not logged in</li>\\n        \\t\\t<li id=\"pt-anontalk\"><a href=\"/wiki/Special:MyTalk\" title=\"Discussion about edits from this IP address [n]\" accesskey=\"n\">Talk</a></li><li id=\"pt-anoncontribs\"><a href=\"/wiki/Special:MyContributions\" title=\"A list of edits made from this IP address [y]\" accesskey=\"y\">Contributions</a></li><li id=\"pt-createaccount\"><a href=\"/w/index.php?title=Special:CreateAccount&amp;returnto=List+of+postal+codes+of+Canada%3A+M\" title=\"You are encouraged to create an account and log in; however, it is not mandatory\">Create account</a></li><li id=\"pt-login\"><a href=\"/w/index.php?title=Special:UserLogin&amp;returnto=List+of+postal+codes+of+Canada%3A+M\" title=\"You&#039;re encouraged to log in; however, it&#039;s not mandatory. [o]\" accesskey=\"o\">Log in</a></li>\\n        \\t</ul>\\n        </div>\\n        <div id=\"left-navigation\">\\n            <div id=\"p-namespaces\" role=\"navigation\" class=\"vectorTabs \" aria-labelledby=\"p-namespaces-label\">\\n            \\t<h3 id=\"p-namespaces-label\">Namespaces</h3>\\n            \\t<ul >\\n            \\t\\t<li id=\"ca-nstab-main\" class=\"selected\"><a href=\"/wiki/List_of_postal_codes_of_Canada:_M\" title=\"View the content page [c]\" accesskey=\"c\">Article</a></li><li id=\"ca-talk\"><a href=\"/wiki/Talk:List_of_postal_codes_of_Canada:_M\" rel=\"discussion\" title=\"Discussion about the content page [t]\" accesskey=\"t\">Talk</a></li>\\n            \\t</ul>\\n            </div>\\n            <div id=\"p-variants\" role=\"navigation\" class=\"vectorMenu emptyPortlet\" aria-labelledby=\"p-variants-label\">\\n            \\t<input type=\"checkbox\" class=\"vectorMenuCheckbox\" aria-labelledby=\"p-variants-label\" />\\n            \\t<h3 id=\"p-variants-label\">\\n            \\t\\t<span>Variants</span>\\n            \\t</h3>\\n            \\t<ul class=\"menu\" >\\n            \\t\\t\\n            \\t</ul>\\n            </div>\\n        </div>\\n        <div id=\"right-navigation\">\\n            <div id=\"p-views\" role=\"navigation\" class=\"vectorTabs \" aria-labelledby=\"p-views-label\">\\n            \\t<h3 id=\"p-views-label\">Views</h3>\\n            \\t<ul >\\n            \\t\\t<li id=\"ca-view\" class=\"collapsible selected\"><a href=\"/wiki/List_of_postal_codes_of_Canada:_M\">Read</a></li><li id=\"ca-edit\" class=\"collapsible\"><a href=\"/w/index.php?title=List_of_postal_codes_of_Canada:_M&amp;action=edit\" title=\"Edit this page [e]\" accesskey=\"e\">Edit</a></li><li id=\"ca-history\" class=\"collapsible\"><a href=\"/w/index.php?title=List_of_postal_codes_of_Canada:_M&amp;action=history\" title=\"Past revisions of this page [h]\" accesskey=\"h\">View history</a></li>\\n            \\t</ul>\\n            </div>\\n            <div id=\"p-cactions\" role=\"navigation\" class=\"vectorMenu emptyPortlet\" aria-labelledby=\"p-cactions-label\">\\n            \\t<input type=\"checkbox\" class=\"vectorMenuCheckbox\" aria-labelledby=\"p-cactions-label\" />\\n            \\t<h3 id=\"p-cactions-label\">\\n            \\t\\t<span>More</span>\\n            \\t</h3>\\n            \\t<ul class=\"menu\" >\\n            \\t\\t\\n            \\t</ul>\\n            </div>\\n            <div id=\"p-search\" role=\"search\">\\n            \\t<h3 >\\n            \\t\\t<label for=\"searchInput\">Search</label>\\n            \\t</h3>\\n            \\t<form action=\"/w/index.php\" id=\"searchform\">\\n            \\t\\t<div id=\"simpleSearch\">\\n            \\t\\t\\t<input type=\"search\" name=\"search\" placeholder=\"Search Wikipedia\" title=\"Search Wikipedia [f]\" accesskey=\"f\" id=\"searchInput\"/>\\n            \\t\\t\\t<input type=\"hidden\" value=\"Special:Search\" name=\"title\"/>\\n            \\t\\t\\t<input type=\"submit\" name=\"fulltext\" value=\"Search\" title=\"Search Wikipedia for this text\" id=\"mw-searchButton\" class=\"searchButton mw-fallbackSearchButton\"/>\\n            \\t\\t\\t<input type=\"submit\" name=\"go\" value=\"Go\" title=\"Go to a page with this exact name if it exists\" id=\"searchButton\" class=\"searchButton\"/>\\n            \\t\\t</div>\\n            \\t</form>\\n            </div>\\n        </div>\\n    </div>\\n    \\n    <div id=\"mw-panel\">\\n    \\t<div id=\"p-logo\" role=\"banner\">\\n    \\t\\t<a  title=\"Visit the main page\" class=\"mw-wiki-logo\" href=\"/wiki/Main_Page\"></a>\\n    \\t</div>\\n    \\t<div class=\"portal\" role=\"navigation\" id=\"p-navigation\"  aria-labelledby=\"p-navigation-label\">\\n    \\t\\t<h3  id=\"p-navigation-label\">\\n    \\t\\t\\tNavigation\\n    \\t\\t</h3>\\n    \\t\\t<div class=\"body\">\\n    \\t\\t\\t<ul><li id=\"n-mainpage-description\"><a href=\"/wiki/Main_Page\" title=\"Visit the main page [z]\" accesskey=\"z\">Main page</a></li><li id=\"n-contents\"><a href=\"/wiki/Wikipedia:Contents\" title=\"Guides to browsing Wikipedia\">Contents</a></li><li id=\"n-featuredcontent\"><a href=\"/wiki/Wikipedia:Featured_content\" title=\"Featured content – the best of Wikipedia\">Featured content</a></li><li id=\"n-currentevents\"><a href=\"/wiki/Portal:Current_events\" title=\"Find background information on current events\">Current events</a></li><li id=\"n-randompage\"><a href=\"/wiki/Special:Random\" title=\"Load a random article [x]\" accesskey=\"x\">Random article</a></li><li id=\"n-sitesupport\"><a href=\"https://donate.wikimedia.org/wiki/Special:FundraiserRedirector?utm_source=donate&amp;utm_medium=sidebar&amp;utm_campaign=C13_en.wikipedia.org&amp;uselang=en\" title=\"Support us\">Donate to Wikipedia</a></li><li id=\"n-shoplink\"><a href=\"//shop.wikimedia.org\" title=\"Visit the Wikipedia store\">Wikipedia store</a></li></ul>\\n    \\t\\t\\t\\n    \\t\\t</div>\\n    \\t</div>\\n    \\t\\n    \\t<div class=\"portal\" role=\"navigation\" id=\"p-interaction\"  aria-labelledby=\"p-interaction-label\">\\n    \\t\\t<h3  id=\"p-interaction-label\">\\n    \\t\\t\\tInteraction\\n    \\t\\t</h3>\\n    \\t\\t<div class=\"body\">\\n    \\t\\t\\t<ul><li id=\"n-help\"><a href=\"/wiki/Help:Contents\" title=\"Guidance on how to use and edit Wikipedia\">Help</a></li><li id=\"n-aboutsite\"><a href=\"/wiki/Wikipedia:About\" title=\"Find out about Wikipedia\">About Wikipedia</a></li><li id=\"n-portal\"><a href=\"/wiki/Wikipedia:Community_portal\" title=\"About the project, what you can do, where to find things\">Community portal</a></li><li id=\"n-recentchanges\"><a href=\"/wiki/Special:RecentChanges\" title=\"A list of recent changes in the wiki [r]\" accesskey=\"r\">Recent changes</a></li><li id=\"n-contactpage\"><a href=\"//en.wikipedia.org/wiki/Wikipedia:Contact_us\" title=\"How to contact Wikipedia\">Contact page</a></li></ul>\\n    \\t\\t\\t\\n    \\t\\t</div>\\n    \\t</div>\\n    \\t\\n    \\t<div class=\"portal\" role=\"navigation\" id=\"p-tb\"  aria-labelledby=\"p-tb-label\">\\n    \\t\\t<h3  id=\"p-tb-label\">\\n    \\t\\t\\tTools\\n    \\t\\t</h3>\\n    \\t\\t<div class=\"body\">\\n    \\t\\t\\t<ul><li id=\"t-whatlinkshere\"><a href=\"/wiki/Special:WhatLinksHere/List_of_postal_codes_of_Canada:_M\" title=\"List of all English Wikipedia pages containing links to this page [j]\" accesskey=\"j\">What links here</a></li><li id=\"t-recentchangeslinked\"><a href=\"/wiki/Special:RecentChangesLinked/List_of_postal_codes_of_Canada:_M\" rel=\"nofollow\" title=\"Recent changes in pages linked from this page [k]\" accesskey=\"k\">Related changes</a></li><li id=\"t-upload\"><a href=\"/wiki/Wikipedia:File_Upload_Wizard\" title=\"Upload files [u]\" accesskey=\"u\">Upload file</a></li><li id=\"t-specialpages\"><a href=\"/wiki/Special:SpecialPages\" title=\"A list of all special pages [q]\" accesskey=\"q\">Special pages</a></li><li id=\"t-permalink\"><a href=\"/w/index.php?title=List_of_postal_codes_of_Canada:_M&amp;oldid=949497198\" title=\"Permanent link to this revision of the page\">Permanent link</a></li><li id=\"t-info\"><a href=\"/w/index.php?title=List_of_postal_codes_of_Canada:_M&amp;action=info\" title=\"More information about this page\">Page information</a></li><li id=\"t-wikibase\"><a href=\"https://www.wikidata.org/wiki/Special:EntityPage/Q3248240\" title=\"Link to connected data repository item [g]\" accesskey=\"g\">Wikidata item</a></li><li id=\"t-cite\"><a href=\"/w/index.php?title=Special:CiteThisPage&amp;page=List_of_postal_codes_of_Canada%3A_M&amp;id=949497198&amp;wpFormIdentifier=titleform\" title=\"Information on how to cite this page\">Cite this page</a></li></ul>\\n    \\t\\t\\t\\n    \\t\\t</div>\\n    \\t</div>\\n    \\t\\n    \\t<div class=\"portal\" role=\"navigation\" id=\"p-coll-print_export\"  aria-labelledby=\"p-coll-print_export-label\">\\n    \\t\\t<h3  id=\"p-coll-print_export-label\">\\n    \\t\\t\\tPrint/export\\n    \\t\\t</h3>\\n    \\t\\t<div class=\"body\">\\n    \\t\\t\\t<ul><li id=\"coll-create_a_book\"><a href=\"/w/index.php?title=Special:Book&amp;bookcmd=book_creator&amp;referer=List+of+postal+codes+of+Canada%3A+M\">Create a book</a></li><li id=\"coll-download-as-rl\"><a href=\"/w/index.php?title=Special:ElectronPdf&amp;page=List+of+postal+codes+of+Canada%3A+M&amp;action=show-download-screen\">Download as PDF</a></li><li id=\"t-print\"><a href=\"/w/index.php?title=List_of_postal_codes_of_Canada:_M&amp;printable=yes\" title=\"Printable version of this page [p]\" accesskey=\"p\">Printable version</a></li></ul>\\n    \\t\\t\\t\\n    \\t\\t</div>\\n    \\t</div>\\n    \\t\\n    \\t<div class=\"portal\" role=\"navigation\" id=\"p-lang\"  aria-labelledby=\"p-lang-label\">\\n    \\t\\t<h3  id=\"p-lang-label\">\\n    \\t\\t\\tLanguages\\n    \\t\\t</h3>\\n    \\t\\t<div class=\"body\">\\n    \\t\\t\\t<ul><li class=\"interlanguage-link interwiki-fr\"><a href=\"https://fr.wikipedia.org/wiki/Liste_des_codes_postaux_canadiens_d%C3%A9butant_par_M\" title=\"Liste des codes postaux canadiens débutant par M – French\" lang=\"fr\" hreflang=\"fr\" class=\"interlanguage-link-target\">Français</a></li></ul>\\n    \\t\\t\\t<div class=\"after-portlet after-portlet-lang\"><span class=\"wb-langlinks-edit wb-langlinks-link\"><a href=\"https://www.wikidata.org/wiki/Special:EntityPage/Q3248240#sitelinks-wikipedia\" title=\"Edit interlanguage links\" class=\"wbc-editpage\">Edit links</a></span></div>\\n    \\t\\t</div>\\n    \\t</div>\\n    \\t\\n    </div>\\n</div>\\n\\n<div id=\"footer\" role=\"contentinfo\" >\\n\\t<ul id=\"footer-info\" class=\"\">\\n\\t\\t<li id=\"footer-info-lastmod\"> This page was last edited on 6 April 2020, at 20:17<span class=\"anonymous-show\">&#160;(UTC)</span>.</li>\\n\\t\\t<li id=\"footer-info-copyright\">Text is available under the <a rel=\"license\" href=\"//en.wikipedia.org/wiki/Wikipedia:Text_of_Creative_Commons_Attribution-ShareAlike_3.0_Unported_License\">Creative Commons Attribution-ShareAlike License</a><a rel=\"license\" href=\"//creativecommons.org/licenses/by-sa/3.0/\" style=\"display:none;\"></a>;\\nadditional terms may apply.  By using this site, you agree to the <a href=\"//foundation.wikimedia.org/wiki/Terms_of_Use\">Terms of Use</a> and <a href=\"//foundation.wikimedia.org/wiki/Privacy_policy\">Privacy Policy</a>. Wikipedia® is a registered trademark of the <a href=\"//www.wikimediafoundation.org/\">Wikimedia Foundation, Inc.</a>, a non-profit organization.</li>\\n\\t</ul>\\n\\t<ul id=\"footer-places\" class=\"\">\\n\\t\\t<li id=\"footer-places-privacy\"><a href=\"https://foundation.wikimedia.org/wiki/Privacy_policy\" class=\"extiw\" title=\"wmf:Privacy policy\">Privacy policy</a></li>\\n\\t\\t<li id=\"footer-places-about\"><a href=\"/wiki/Wikipedia:About\" title=\"Wikipedia:About\">About Wikipedia</a></li>\\n\\t\\t<li id=\"footer-places-disclaimer\"><a href=\"/wiki/Wikipedia:General_disclaimer\" title=\"Wikipedia:General disclaimer\">Disclaimers</a></li>\\n\\t\\t<li id=\"footer-places-contact\"><a href=\"//en.wikipedia.org/wiki/Wikipedia:Contact_us\">Contact Wikipedia</a></li>\\n\\t\\t<li id=\"footer-places-developers\"><a href=\"https://www.mediawiki.org/wiki/Special:MyLanguage/How_to_contribute\">Developers</a></li>\\n\\t\\t<li id=\"footer-places-statslink\"><a href=\"https://stats.wikimedia.org/#/en.wikipedia.org\">Statistics</a></li>\\n\\t\\t<li id=\"footer-places-cookiestatement\"><a href=\"https://foundation.wikimedia.org/wiki/Cookie_statement\">Cookie statement</a></li>\\n\\t\\t<li id=\"footer-places-mobileview\"><a href=\"//en.m.wikipedia.org/w/index.php?title=List_of_postal_codes_of_Canada:_M&amp;mobileaction=toggle_view_mobile\" class=\"noprint stopMobileRedirectToggle\">Mobile view</a></li>\\n\\t</ul>\\n\\t<ul id=\"footer-icons\" class=\"noprint\">\\n\\t\\t<li id=\"footer-copyrightico\"><a href=\"https://wikimediafoundation.org/\"><img src=\"/static/images/wikimedia-button.png\" srcset=\"/static/images/wikimedia-button-1.5x.png 1.5x, /static/images/wikimedia-button-2x.png 2x\" width=\"88\" height=\"31\" alt=\"Wikimedia Foundation\"/></a></li>\\n\\t\\t<li id=\"footer-poweredbyico\"><a href=\"https://www.mediawiki.org/\"><img src=\"/static/images/poweredby_mediawiki_88x31.png\" alt=\"Powered by MediaWiki\" srcset=\"/static/images/poweredby_mediawiki_132x47.png 1.5x, /static/images/poweredby_mediawiki_176x62.png 2x\" width=\"88\" height=\"31\"/></a></li>\\n\\t</ul>\\n\\t<div style=\"clear: both;\"></div>\\n</div>\\n\\n<script>(RLQ=window.RLQ||[]).push(function(){mw.config.set({\"wgPageParseReport\":{\"limitreport\":{\"cputime\":\"0.160\",\"walltime\":\"0.208\",\"ppvisitednodes\":{\"value\":251,\"limit\":1000000},\"postexpandincludesize\":{\"value\":10461,\"limit\":2097152},\"templateargumentsize\":{\"value\":195,\"limit\":2097152},\"expansiondepth\":{\"value\":8,\"limit\":40},\"expensivefunctioncount\":{\"value\":0,\"limit\":500},\"unstrip-depth\":{\"value\":1,\"limit\":20},\"unstrip-size\":{\"value\":9490,\"limit\":5000000},\"entityaccesscount\":{\"value\":0,\"limit\":400},\"timingprofile\":[\"100.00%  159.115      1 -total\",\" 55.80%   88.781      3 Template:Cite_web\",\" 36.25%   57.676      1 Template:Short_description\",\" 24.82%   39.491      1 Template:Pagetype\",\"  2.68%    4.270      1 Template:Canadian_postal_codes\",\"  2.00%    3.179      1 Template:Main_other\"]},\"scribunto\":{\"limitreport-timeusage\":{\"value\":\"0.076\",\"limit\":\"10.000\"},\"limitreport-memusage\":{\"value\":2357921,\"limit\":52428800}},\"cachereport\":{\"origin\":\"mw1288\",\"timestamp\":\"20200406201723\",\"ttl\":2592000,\"transientcontent\":false}}});});</script>\\n<script type=\"application/ld+json\">{\"@context\":\"https:\\\\/\\\\/schema.org\",\"@type\":\"Article\",\"name\":\"List of postal codes of Canada: M\",\"url\":\"https:\\\\/\\\\/en.wikipedia.org\\\\/wiki\\\\/List_of_postal_codes_of_Canada:_M\",\"sameAs\":\"http:\\\\/\\\\/www.wikidata.org\\\\/entity\\\\/Q3248240\",\"mainEntity\":\"http:\\\\/\\\\/www.wikidata.org\\\\/entity\\\\/Q3248240\",\"author\":{\"@type\":\"Organization\",\"name\":\"Contributors to Wikimedia projects\"},\"publisher\":{\"@type\":\"Organization\",\"name\":\"Wikimedia Foundation, Inc.\",\"logo\":{\"@type\":\"ImageObject\",\"url\":\"https:\\\\/\\\\/www.wikimedia.org\\\\/static\\\\/images\\\\/wmf-hor-googpub.png\"}},\"datePublished\":\"2004-03-20T10:02:13Z\",\"dateModified\":\"2020-04-06T20:17:25Z\",\"headline\":\"Wikimedia list article\"}</script>\\n<script>(RLQ=window.RLQ||[]).push(function(){mw.config.set({\"wgBackendResponseTime\":99,\"wgHostname\":\"mw1271\"});});</script></body></html>\\n']"
      ]
     },
     "execution_count": 30,
     "metadata": {},
     "output_type": "execute_result"
    }
   ],
   "source": [
    "req"
   ]
  },
  {
   "cell_type": "markdown",
   "metadata": {},
   "source": [
    "whole information on the web page"
   ]
  },
  {
   "cell_type": "code",
   "execution_count": 5,
   "metadata": {},
   "outputs": [
    {
     "name": "stdout",
     "output_type": "stream",
     "text": [
      "3\n"
     ]
    }
   ],
   "source": [
    "df_all = pd.read_html(req[0])\n",
    "print(len(df_all))"
   ]
  },
  {
   "cell_type": "markdown",
   "metadata": {},
   "source": [
    "use pandas to find out the number of tables on this webpage"
   ]
  },
  {
   "cell_type": "code",
   "execution_count": 6,
   "metadata": {},
   "outputs": [
    {
     "data": {
      "text/html": [
       "<div>\n",
       "<style scoped>\n",
       "    .dataframe tbody tr th:only-of-type {\n",
       "        vertical-align: middle;\n",
       "    }\n",
       "\n",
       "    .dataframe tbody tr th {\n",
       "        vertical-align: top;\n",
       "    }\n",
       "\n",
       "    .dataframe thead th {\n",
       "        text-align: right;\n",
       "    }\n",
       "</style>\n",
       "<table border=\"1\" class=\"dataframe\">\n",
       "  <thead>\n",
       "    <tr style=\"text-align: right;\">\n",
       "      <th></th>\n",
       "      <th>Postal code</th>\n",
       "      <th>Borough</th>\n",
       "      <th>Neighborhood</th>\n",
       "    </tr>\n",
       "  </thead>\n",
       "  <tbody>\n",
       "    <tr>\n",
       "      <th>0</th>\n",
       "      <td>M1A</td>\n",
       "      <td>Not assigned</td>\n",
       "      <td>NaN</td>\n",
       "    </tr>\n",
       "    <tr>\n",
       "      <th>1</th>\n",
       "      <td>M2A</td>\n",
       "      <td>Not assigned</td>\n",
       "      <td>NaN</td>\n",
       "    </tr>\n",
       "    <tr>\n",
       "      <th>2</th>\n",
       "      <td>M3A</td>\n",
       "      <td>North York</td>\n",
       "      <td>Parkwoods</td>\n",
       "    </tr>\n",
       "    <tr>\n",
       "      <th>3</th>\n",
       "      <td>M4A</td>\n",
       "      <td>North York</td>\n",
       "      <td>Victoria Village</td>\n",
       "    </tr>\n",
       "    <tr>\n",
       "      <th>4</th>\n",
       "      <td>M5A</td>\n",
       "      <td>Downtown Toronto</td>\n",
       "      <td>Regent Park / Harbourfront</td>\n",
       "    </tr>\n",
       "  </tbody>\n",
       "</table>\n",
       "</div>"
      ],
      "text/plain": [
       "  Postal code           Borough                Neighborhood\n",
       "0         M1A      Not assigned                         NaN\n",
       "1         M2A      Not assigned                         NaN\n",
       "2         M3A        North York                   Parkwoods\n",
       "3         M4A        North York            Victoria Village\n",
       "4         M5A  Downtown Toronto  Regent Park / Harbourfront"
      ]
     },
     "execution_count": 6,
     "metadata": {},
     "output_type": "execute_result"
    }
   ],
   "source": [
    "df_all[0].head()"
   ]
  },
  {
   "cell_type": "markdown",
   "metadata": {},
   "source": [
    "make sure that the first table is what we want to use"
   ]
  },
  {
   "cell_type": "code",
   "execution_count": 7,
   "metadata": {},
   "outputs": [
    {
     "name": "stdout",
     "output_type": "stream",
     "text": [
      "<class 'pandas.core.frame.DataFrame'>\n"
     ]
    }
   ],
   "source": [
    "df = df_all[0]\n",
    "print(type(df))"
   ]
  },
  {
   "cell_type": "code",
   "execution_count": 8,
   "metadata": {},
   "outputs": [
    {
     "data": {
      "text/plain": [
       "(180, 3)"
      ]
     },
     "execution_count": 8,
     "metadata": {},
     "output_type": "execute_result"
    }
   ],
   "source": [
    "df.shape"
   ]
  },
  {
   "cell_type": "code",
   "execution_count": 9,
   "metadata": {},
   "outputs": [
    {
     "data": {
      "text/html": [
       "<div>\n",
       "<style scoped>\n",
       "    .dataframe tbody tr th:only-of-type {\n",
       "        vertical-align: middle;\n",
       "    }\n",
       "\n",
       "    .dataframe tbody tr th {\n",
       "        vertical-align: top;\n",
       "    }\n",
       "\n",
       "    .dataframe thead th {\n",
       "        text-align: right;\n",
       "    }\n",
       "</style>\n",
       "<table border=\"1\" class=\"dataframe\">\n",
       "  <thead>\n",
       "    <tr style=\"text-align: right;\">\n",
       "      <th></th>\n",
       "      <th>Postal code</th>\n",
       "      <th>Borough</th>\n",
       "      <th>Neighborhood</th>\n",
       "    </tr>\n",
       "  </thead>\n",
       "  <tbody>\n",
       "    <tr>\n",
       "      <th>2</th>\n",
       "      <td>M3A</td>\n",
       "      <td>North York</td>\n",
       "      <td>Parkwoods</td>\n",
       "    </tr>\n",
       "    <tr>\n",
       "      <th>3</th>\n",
       "      <td>M4A</td>\n",
       "      <td>North York</td>\n",
       "      <td>Victoria Village</td>\n",
       "    </tr>\n",
       "    <tr>\n",
       "      <th>4</th>\n",
       "      <td>M5A</td>\n",
       "      <td>Downtown Toronto</td>\n",
       "      <td>Regent Park / Harbourfront</td>\n",
       "    </tr>\n",
       "    <tr>\n",
       "      <th>5</th>\n",
       "      <td>M6A</td>\n",
       "      <td>North York</td>\n",
       "      <td>Lawrence Manor / Lawrence Heights</td>\n",
       "    </tr>\n",
       "    <tr>\n",
       "      <th>6</th>\n",
       "      <td>M7A</td>\n",
       "      <td>Downtown Toronto</td>\n",
       "      <td>Queen's Park / Ontario Provincial Government</td>\n",
       "    </tr>\n",
       "  </tbody>\n",
       "</table>\n",
       "</div>"
      ],
      "text/plain": [
       "  Postal code           Borough                                  Neighborhood\n",
       "2         M3A        North York                                     Parkwoods\n",
       "3         M4A        North York                              Victoria Village\n",
       "4         M5A  Downtown Toronto                    Regent Park / Harbourfront\n",
       "5         M6A        North York             Lawrence Manor / Lawrence Heights\n",
       "6         M7A  Downtown Toronto  Queen's Park / Ontario Provincial Government"
      ]
     },
     "execution_count": 9,
     "metadata": {},
     "output_type": "execute_result"
    }
   ],
   "source": [
    "df_d1 = df[df[\"Borough\"] != \"Not assigned\"]\n",
    "df_d1.head()"
   ]
  },
  {
   "cell_type": "markdown",
   "metadata": {},
   "source": [
    "delete rows with \"Not assigned\" in df[\"Borough\"]"
   ]
  },
  {
   "cell_type": "code",
   "execution_count": 10,
   "metadata": {},
   "outputs": [
    {
     "data": {
      "text/plain": [
       "(103, 3)"
      ]
     },
     "execution_count": 10,
     "metadata": {},
     "output_type": "execute_result"
    }
   ],
   "source": [
    "df_d1.shape"
   ]
  },
  {
   "cell_type": "code",
   "execution_count": 11,
   "metadata": {},
   "outputs": [
    {
     "name": "stderr",
     "output_type": "stream",
     "text": [
      "/opt/conda/envs/Python36/lib/python3.6/site-packages/ipykernel/__main__.py:1: SettingWithCopyWarning: \n",
      "A value is trying to be set on a copy of a slice from a DataFrame\n",
      "\n",
      "See the caveats in the documentation: http://pandas.pydata.org/pandas-docs/stable/indexing.html#indexing-view-versus-copy\n",
      "  if __name__ == '__main__':\n"
     ]
    },
    {
     "data": {
      "text/plain": [
       "(103, 3)"
      ]
     },
     "execution_count": 11,
     "metadata": {},
     "output_type": "execute_result"
    }
   ],
   "source": [
    "df_d1.dropna(axis=0, how='any', subset=[u'Neighborhood'], inplace=True)\n",
    "df_d1.shape"
   ]
  },
  {
   "cell_type": "markdown",
   "metadata": {},
   "source": [
    "delete the NaN in the Neighborhood column"
   ]
  },
  {
   "cell_type": "code",
   "execution_count": 12,
   "metadata": {},
   "outputs": [
    {
     "data": {
      "text/html": [
       "<div>\n",
       "<style scoped>\n",
       "    .dataframe tbody tr th:only-of-type {\n",
       "        vertical-align: middle;\n",
       "    }\n",
       "\n",
       "    .dataframe tbody tr th {\n",
       "        vertical-align: top;\n",
       "    }\n",
       "\n",
       "    .dataframe thead th {\n",
       "        text-align: right;\n",
       "    }\n",
       "</style>\n",
       "<table border=\"1\" class=\"dataframe\">\n",
       "  <thead>\n",
       "    <tr style=\"text-align: right;\">\n",
       "      <th></th>\n",
       "      <th>Postal code</th>\n",
       "      <th>Borough</th>\n",
       "      <th>Neighborhood</th>\n",
       "    </tr>\n",
       "  </thead>\n",
       "  <tbody>\n",
       "    <tr>\n",
       "      <th>2</th>\n",
       "      <td>M3A</td>\n",
       "      <td>North York</td>\n",
       "      <td>Parkwoods</td>\n",
       "    </tr>\n",
       "    <tr>\n",
       "      <th>3</th>\n",
       "      <td>M4A</td>\n",
       "      <td>North York</td>\n",
       "      <td>Victoria Village</td>\n",
       "    </tr>\n",
       "    <tr>\n",
       "      <th>4</th>\n",
       "      <td>M5A</td>\n",
       "      <td>Downtown Toronto</td>\n",
       "      <td>Regent Park / Harbourfront</td>\n",
       "    </tr>\n",
       "  </tbody>\n",
       "</table>\n",
       "</div>"
      ],
      "text/plain": [
       "  Postal code           Borough                Neighborhood\n",
       "2         M3A        North York                   Parkwoods\n",
       "3         M4A        North York            Victoria Village\n",
       "4         M5A  Downtown Toronto  Regent Park / Harbourfront"
      ]
     },
     "execution_count": 12,
     "metadata": {},
     "output_type": "execute_result"
    }
   ],
   "source": [
    "df_d1[0:3]"
   ]
  },
  {
   "cell_type": "code",
   "execution_count": 13,
   "metadata": {},
   "outputs": [
    {
     "data": {
      "text/html": [
       "<div>\n",
       "<style scoped>\n",
       "    .dataframe tbody tr th:only-of-type {\n",
       "        vertical-align: middle;\n",
       "    }\n",
       "\n",
       "    .dataframe tbody tr th {\n",
       "        vertical-align: top;\n",
       "    }\n",
       "\n",
       "    .dataframe thead th {\n",
       "        text-align: right;\n",
       "    }\n",
       "</style>\n",
       "<table border=\"1\" class=\"dataframe\">\n",
       "  <thead>\n",
       "    <tr style=\"text-align: right;\">\n",
       "      <th></th>\n",
       "      <th>Postal code</th>\n",
       "      <th>Borough</th>\n",
       "      <th>Neighborhood</th>\n",
       "    </tr>\n",
       "  </thead>\n",
       "  <tbody>\n",
       "    <tr>\n",
       "      <th>0</th>\n",
       "      <td>M3A</td>\n",
       "      <td>North York</td>\n",
       "      <td>Parkwoods</td>\n",
       "    </tr>\n",
       "    <tr>\n",
       "      <th>1</th>\n",
       "      <td>M4A</td>\n",
       "      <td>North York</td>\n",
       "      <td>Victoria Village</td>\n",
       "    </tr>\n",
       "    <tr>\n",
       "      <th>2</th>\n",
       "      <td>M5A</td>\n",
       "      <td>Downtown Toronto</td>\n",
       "      <td>Regent Park / Harbourfront</td>\n",
       "    </tr>\n",
       "  </tbody>\n",
       "</table>\n",
       "</div>"
      ],
      "text/plain": [
       "  Postal code           Borough                Neighborhood\n",
       "0         M3A        North York                   Parkwoods\n",
       "1         M4A        North York            Victoria Village\n",
       "2         M5A  Downtown Toronto  Regent Park / Harbourfront"
      ]
     },
     "execution_count": 13,
     "metadata": {},
     "output_type": "execute_result"
    }
   ],
   "source": [
    "df_d1.index = range(len(df_d1))\n",
    "df_d1[0:3]"
   ]
  },
  {
   "cell_type": "markdown",
   "metadata": {},
   "source": [
    "reset the index of the dataframe"
   ]
  },
  {
   "cell_type": "code",
   "execution_count": 14,
   "metadata": {},
   "outputs": [],
   "source": [
    "df_d2 = df_d1"
   ]
  },
  {
   "cell_type": "markdown",
   "metadata": {},
   "source": [
    "make a back-up"
   ]
  },
  {
   "cell_type": "code",
   "execution_count": 21,
   "metadata": {},
   "outputs": [
    {
     "name": "stdout",
     "output_type": "stream",
     "text": [
      "OK\n"
     ]
    }
   ],
   "source": [
    "#abc = \"My name is/Chris.\"\n",
    "#if \"/\" in abc:\n",
    "   #print(\"OK\")"
   ]
  },
  {
   "cell_type": "code",
   "execution_count": 15,
   "metadata": {},
   "outputs": [
    {
     "data": {
      "text/plain": [
       "['Parkwoods', 'Victoria Village', 'Regent Park, Harbourfront']"
      ]
     },
     "execution_count": 15,
     "metadata": {},
     "output_type": "execute_result"
    }
   ],
   "source": [
    "list = []\n",
    "for hood in df_d2[\"Neighborhood\"]:\n",
    "    if \" /\" in hood:\n",
    "        hood = hood.replace(\" /\",\",\")\n",
    "        list.append(hood)\n",
    "    else:\n",
    "        list.append(hood)\n",
    "list[0:3]\n"
   ]
  },
  {
   "cell_type": "markdown",
   "metadata": {},
   "source": [
    "replace the \"/\" with \",\" "
   ]
  },
  {
   "cell_type": "code",
   "execution_count": 16,
   "metadata": {},
   "outputs": [
    {
     "name": "stderr",
     "output_type": "stream",
     "text": [
      "/opt/conda/envs/Python36/lib/python3.6/site-packages/ipykernel/__main__.py:2: SettingWithCopyWarning: \n",
      "A value is trying to be set on a copy of a slice from a DataFrame.\n",
      "Try using .loc[row_indexer,col_indexer] = value instead\n",
      "\n",
      "See the caveats in the documentation: http://pandas.pydata.org/pandas-docs/stable/indexing.html#indexing-view-versus-copy\n",
      "  from ipykernel import kernelapp as app\n"
     ]
    },
    {
     "data": {
      "text/html": [
       "<div>\n",
       "<style scoped>\n",
       "    .dataframe tbody tr th:only-of-type {\n",
       "        vertical-align: middle;\n",
       "    }\n",
       "\n",
       "    .dataframe tbody tr th {\n",
       "        vertical-align: top;\n",
       "    }\n",
       "\n",
       "    .dataframe thead th {\n",
       "        text-align: right;\n",
       "    }\n",
       "</style>\n",
       "<table border=\"1\" class=\"dataframe\">\n",
       "  <thead>\n",
       "    <tr style=\"text-align: right;\">\n",
       "      <th></th>\n",
       "      <th>Postal code</th>\n",
       "      <th>Borough</th>\n",
       "      <th>Neighborhood</th>\n",
       "    </tr>\n",
       "  </thead>\n",
       "  <tbody>\n",
       "    <tr>\n",
       "      <th>0</th>\n",
       "      <td>M3A</td>\n",
       "      <td>North York</td>\n",
       "      <td>Parkwoods</td>\n",
       "    </tr>\n",
       "    <tr>\n",
       "      <th>1</th>\n",
       "      <td>M4A</td>\n",
       "      <td>North York</td>\n",
       "      <td>Victoria Village</td>\n",
       "    </tr>\n",
       "    <tr>\n",
       "      <th>2</th>\n",
       "      <td>M5A</td>\n",
       "      <td>Downtown Toronto</td>\n",
       "      <td>Regent Park, Harbourfront</td>\n",
       "    </tr>\n",
       "    <tr>\n",
       "      <th>3</th>\n",
       "      <td>M6A</td>\n",
       "      <td>North York</td>\n",
       "      <td>Lawrence Manor, Lawrence Heights</td>\n",
       "    </tr>\n",
       "    <tr>\n",
       "      <th>4</th>\n",
       "      <td>M7A</td>\n",
       "      <td>Downtown Toronto</td>\n",
       "      <td>Queen's Park, Ontario Provincial Government</td>\n",
       "    </tr>\n",
       "    <tr>\n",
       "      <th>5</th>\n",
       "      <td>M9A</td>\n",
       "      <td>Etobicoke</td>\n",
       "      <td>Islington Avenue</td>\n",
       "    </tr>\n",
       "    <tr>\n",
       "      <th>6</th>\n",
       "      <td>M1B</td>\n",
       "      <td>Scarborough</td>\n",
       "      <td>Malvern, Rouge</td>\n",
       "    </tr>\n",
       "    <tr>\n",
       "      <th>7</th>\n",
       "      <td>M3B</td>\n",
       "      <td>North York</td>\n",
       "      <td>Don Mills</td>\n",
       "    </tr>\n",
       "    <tr>\n",
       "      <th>8</th>\n",
       "      <td>M4B</td>\n",
       "      <td>East York</td>\n",
       "      <td>Parkview Hill, Woodbine Gardens</td>\n",
       "    </tr>\n",
       "    <tr>\n",
       "      <th>9</th>\n",
       "      <td>M5B</td>\n",
       "      <td>Downtown Toronto</td>\n",
       "      <td>Garden District, Ryerson</td>\n",
       "    </tr>\n",
       "  </tbody>\n",
       "</table>\n",
       "</div>"
      ],
      "text/plain": [
       "  Postal code           Borough                                 Neighborhood\n",
       "0         M3A        North York                                    Parkwoods\n",
       "1         M4A        North York                             Victoria Village\n",
       "2         M5A  Downtown Toronto                    Regent Park, Harbourfront\n",
       "3         M6A        North York             Lawrence Manor, Lawrence Heights\n",
       "4         M7A  Downtown Toronto  Queen's Park, Ontario Provincial Government\n",
       "5         M9A         Etobicoke                             Islington Avenue\n",
       "6         M1B       Scarborough                               Malvern, Rouge\n",
       "7         M3B        North York                                    Don Mills\n",
       "8         M4B         East York              Parkview Hill, Woodbine Gardens\n",
       "9         M5B  Downtown Toronto                     Garden District, Ryerson"
      ]
     },
     "execution_count": 16,
     "metadata": {},
     "output_type": "execute_result"
    }
   ],
   "source": [
    "df_d3 = df_d2\n",
    "df_d3[\"Neighborhood\"] = list\n",
    "df_d3[0:10]"
   ]
  },
  {
   "cell_type": "markdown",
   "metadata": {},
   "source": [
    "use a new dataframe to store the changed value"
   ]
  },
  {
   "cell_type": "code",
   "execution_count": 17,
   "metadata": {},
   "outputs": [
    {
     "data": {
      "text/plain": [
       "(103, 3)"
      ]
     },
     "execution_count": 17,
     "metadata": {},
     "output_type": "execute_result"
    }
   ],
   "source": [
    "df_d3.shape"
   ]
  },
  {
   "cell_type": "markdown",
   "metadata": {},
   "source": [
    "the final shape of dataframe"
   ]
  },
  {
   "cell_type": "markdown",
   "metadata": {},
   "source": [
    "Step 2 --- add latitude and longitude"
   ]
  },
  {
   "cell_type": "code",
   "execution_count": 18,
   "metadata": {},
   "outputs": [
    {
     "data": {
      "text/html": [
       "<div>\n",
       "<style scoped>\n",
       "    .dataframe tbody tr th:only-of-type {\n",
       "        vertical-align: middle;\n",
       "    }\n",
       "\n",
       "    .dataframe tbody tr th {\n",
       "        vertical-align: top;\n",
       "    }\n",
       "\n",
       "    .dataframe thead th {\n",
       "        text-align: right;\n",
       "    }\n",
       "</style>\n",
       "<table border=\"1\" class=\"dataframe\">\n",
       "  <thead>\n",
       "    <tr style=\"text-align: right;\">\n",
       "      <th></th>\n",
       "      <th>Postal Code</th>\n",
       "      <th>Latitude</th>\n",
       "      <th>Longitude</th>\n",
       "    </tr>\n",
       "  </thead>\n",
       "  <tbody>\n",
       "    <tr>\n",
       "      <th>0</th>\n",
       "      <td>M1B</td>\n",
       "      <td>43.806686</td>\n",
       "      <td>-79.194353</td>\n",
       "    </tr>\n",
       "    <tr>\n",
       "      <th>1</th>\n",
       "      <td>M1C</td>\n",
       "      <td>43.784535</td>\n",
       "      <td>-79.160497</td>\n",
       "    </tr>\n",
       "    <tr>\n",
       "      <th>2</th>\n",
       "      <td>M1E</td>\n",
       "      <td>43.763573</td>\n",
       "      <td>-79.188711</td>\n",
       "    </tr>\n",
       "    <tr>\n",
       "      <th>3</th>\n",
       "      <td>M1G</td>\n",
       "      <td>43.770992</td>\n",
       "      <td>-79.216917</td>\n",
       "    </tr>\n",
       "    <tr>\n",
       "      <th>4</th>\n",
       "      <td>M1H</td>\n",
       "      <td>43.773136</td>\n",
       "      <td>-79.239476</td>\n",
       "    </tr>\n",
       "  </tbody>\n",
       "</table>\n",
       "</div>"
      ],
      "text/plain": [
       "  Postal Code   Latitude  Longitude\n",
       "0         M1B  43.806686 -79.194353\n",
       "1         M1C  43.784535 -79.160497\n",
       "2         M1E  43.763573 -79.188711\n",
       "3         M1G  43.770992 -79.216917\n",
       "4         M1H  43.773136 -79.239476"
      ]
     },
     "execution_count": 18,
     "metadata": {},
     "output_type": "execute_result"
    }
   ],
   "source": [
    "df_loc = pd.read_csv(\"https://cocl.us/Geospatial_data\")\n",
    "df_loc[0:5]"
   ]
  },
  {
   "cell_type": "markdown",
   "metadata": {},
   "source": [
    "download the location data"
   ]
  },
  {
   "cell_type": "code",
   "execution_count": 19,
   "metadata": {},
   "outputs": [
    {
     "data": {
      "text/html": [
       "<div>\n",
       "<style scoped>\n",
       "    .dataframe tbody tr th:only-of-type {\n",
       "        vertical-align: middle;\n",
       "    }\n",
       "\n",
       "    .dataframe tbody tr th {\n",
       "        vertical-align: top;\n",
       "    }\n",
       "\n",
       "    .dataframe thead th {\n",
       "        text-align: right;\n",
       "    }\n",
       "</style>\n",
       "<table border=\"1\" class=\"dataframe\">\n",
       "  <thead>\n",
       "    <tr style=\"text-align: right;\">\n",
       "      <th></th>\n",
       "      <th>Postal code</th>\n",
       "      <th>Borough</th>\n",
       "      <th>Neighborhood</th>\n",
       "    </tr>\n",
       "  </thead>\n",
       "  <tbody>\n",
       "    <tr>\n",
       "      <th>0</th>\n",
       "      <td>M3A</td>\n",
       "      <td>North York</td>\n",
       "      <td>Parkwoods</td>\n",
       "    </tr>\n",
       "    <tr>\n",
       "      <th>1</th>\n",
       "      <td>M4A</td>\n",
       "      <td>North York</td>\n",
       "      <td>Victoria Village</td>\n",
       "    </tr>\n",
       "    <tr>\n",
       "      <th>2</th>\n",
       "      <td>M5A</td>\n",
       "      <td>Downtown Toronto</td>\n",
       "      <td>Regent Park, Harbourfront</td>\n",
       "    </tr>\n",
       "    <tr>\n",
       "      <th>3</th>\n",
       "      <td>M6A</td>\n",
       "      <td>North York</td>\n",
       "      <td>Lawrence Manor, Lawrence Heights</td>\n",
       "    </tr>\n",
       "    <tr>\n",
       "      <th>4</th>\n",
       "      <td>M7A</td>\n",
       "      <td>Downtown Toronto</td>\n",
       "      <td>Queen's Park, Ontario Provincial Government</td>\n",
       "    </tr>\n",
       "  </tbody>\n",
       "</table>\n",
       "</div>"
      ],
      "text/plain": [
       "  Postal code           Borough                                 Neighborhood\n",
       "0         M3A        North York                                    Parkwoods\n",
       "1         M4A        North York                             Victoria Village\n",
       "2         M5A  Downtown Toronto                    Regent Park, Harbourfront\n",
       "3         M6A        North York             Lawrence Manor, Lawrence Heights\n",
       "4         M7A  Downtown Toronto  Queen's Park, Ontario Provincial Government"
      ]
     },
     "execution_count": 19,
     "metadata": {},
     "output_type": "execute_result"
    }
   ],
   "source": [
    "df_d3[0:5]"
   ]
  },
  {
   "cell_type": "code",
   "execution_count": 20,
   "metadata": {},
   "outputs": [
    {
     "data": {
      "text/html": [
       "<div>\n",
       "<style scoped>\n",
       "    .dataframe tbody tr th:only-of-type {\n",
       "        vertical-align: middle;\n",
       "    }\n",
       "\n",
       "    .dataframe tbody tr th {\n",
       "        vertical-align: top;\n",
       "    }\n",
       "\n",
       "    .dataframe thead th {\n",
       "        text-align: right;\n",
       "    }\n",
       "</style>\n",
       "<table border=\"1\" class=\"dataframe\">\n",
       "  <thead>\n",
       "    <tr style=\"text-align: right;\">\n",
       "      <th></th>\n",
       "      <th>Postal Code</th>\n",
       "      <th>Latitude</th>\n",
       "      <th>Longitude</th>\n",
       "    </tr>\n",
       "  </thead>\n",
       "  <tbody>\n",
       "    <tr>\n",
       "      <th>0</th>\n",
       "      <td>M1B</td>\n",
       "      <td>43.806686</td>\n",
       "      <td>-79.194353</td>\n",
       "    </tr>\n",
       "    <tr>\n",
       "      <th>1</th>\n",
       "      <td>M1C</td>\n",
       "      <td>43.784535</td>\n",
       "      <td>-79.160497</td>\n",
       "    </tr>\n",
       "    <tr>\n",
       "      <th>2</th>\n",
       "      <td>M1E</td>\n",
       "      <td>43.763573</td>\n",
       "      <td>-79.188711</td>\n",
       "    </tr>\n",
       "    <tr>\n",
       "      <th>3</th>\n",
       "      <td>M1G</td>\n",
       "      <td>43.770992</td>\n",
       "      <td>-79.216917</td>\n",
       "    </tr>\n",
       "    <tr>\n",
       "      <th>4</th>\n",
       "      <td>M1H</td>\n",
       "      <td>43.773136</td>\n",
       "      <td>-79.239476</td>\n",
       "    </tr>\n",
       "    <tr>\n",
       "      <th>5</th>\n",
       "      <td>M1J</td>\n",
       "      <td>43.744734</td>\n",
       "      <td>-79.239476</td>\n",
       "    </tr>\n",
       "    <tr>\n",
       "      <th>6</th>\n",
       "      <td>M1K</td>\n",
       "      <td>43.727929</td>\n",
       "      <td>-79.262029</td>\n",
       "    </tr>\n",
       "    <tr>\n",
       "      <th>7</th>\n",
       "      <td>M1L</td>\n",
       "      <td>43.711112</td>\n",
       "      <td>-79.284577</td>\n",
       "    </tr>\n",
       "    <tr>\n",
       "      <th>8</th>\n",
       "      <td>M1M</td>\n",
       "      <td>43.716316</td>\n",
       "      <td>-79.239476</td>\n",
       "    </tr>\n",
       "    <tr>\n",
       "      <th>9</th>\n",
       "      <td>M1N</td>\n",
       "      <td>43.692657</td>\n",
       "      <td>-79.264848</td>\n",
       "    </tr>\n",
       "    <tr>\n",
       "      <th>10</th>\n",
       "      <td>M1P</td>\n",
       "      <td>43.757410</td>\n",
       "      <td>-79.273304</td>\n",
       "    </tr>\n",
       "    <tr>\n",
       "      <th>11</th>\n",
       "      <td>M1R</td>\n",
       "      <td>43.750072</td>\n",
       "      <td>-79.295849</td>\n",
       "    </tr>\n",
       "    <tr>\n",
       "      <th>12</th>\n",
       "      <td>M1S</td>\n",
       "      <td>43.794200</td>\n",
       "      <td>-79.262029</td>\n",
       "    </tr>\n",
       "    <tr>\n",
       "      <th>13</th>\n",
       "      <td>M1T</td>\n",
       "      <td>43.781638</td>\n",
       "      <td>-79.304302</td>\n",
       "    </tr>\n",
       "    <tr>\n",
       "      <th>14</th>\n",
       "      <td>M1V</td>\n",
       "      <td>43.815252</td>\n",
       "      <td>-79.284577</td>\n",
       "    </tr>\n",
       "    <tr>\n",
       "      <th>15</th>\n",
       "      <td>M1W</td>\n",
       "      <td>43.799525</td>\n",
       "      <td>-79.318389</td>\n",
       "    </tr>\n",
       "    <tr>\n",
       "      <th>16</th>\n",
       "      <td>M1X</td>\n",
       "      <td>43.836125</td>\n",
       "      <td>-79.205636</td>\n",
       "    </tr>\n",
       "    <tr>\n",
       "      <th>17</th>\n",
       "      <td>M2H</td>\n",
       "      <td>43.803762</td>\n",
       "      <td>-79.363452</td>\n",
       "    </tr>\n",
       "    <tr>\n",
       "      <th>18</th>\n",
       "      <td>M2J</td>\n",
       "      <td>43.778517</td>\n",
       "      <td>-79.346556</td>\n",
       "    </tr>\n",
       "    <tr>\n",
       "      <th>19</th>\n",
       "      <td>M2K</td>\n",
       "      <td>43.786947</td>\n",
       "      <td>-79.385975</td>\n",
       "    </tr>\n",
       "  </tbody>\n",
       "</table>\n",
       "</div>"
      ],
      "text/plain": [
       "   Postal Code   Latitude  Longitude\n",
       "0          M1B  43.806686 -79.194353\n",
       "1          M1C  43.784535 -79.160497\n",
       "2          M1E  43.763573 -79.188711\n",
       "3          M1G  43.770992 -79.216917\n",
       "4          M1H  43.773136 -79.239476\n",
       "5          M1J  43.744734 -79.239476\n",
       "6          M1K  43.727929 -79.262029\n",
       "7          M1L  43.711112 -79.284577\n",
       "8          M1M  43.716316 -79.239476\n",
       "9          M1N  43.692657 -79.264848\n",
       "10         M1P  43.757410 -79.273304\n",
       "11         M1R  43.750072 -79.295849\n",
       "12         M1S  43.794200 -79.262029\n",
       "13         M1T  43.781638 -79.304302\n",
       "14         M1V  43.815252 -79.284577\n",
       "15         M1W  43.799525 -79.318389\n",
       "16         M1X  43.836125 -79.205636\n",
       "17         M2H  43.803762 -79.363452\n",
       "18         M2J  43.778517 -79.346556\n",
       "19         M2K  43.786947 -79.385975"
      ]
     },
     "execution_count": 20,
     "metadata": {},
     "output_type": "execute_result"
    }
   ],
   "source": [
    "df_loc = df_loc.sort_values(by=\"Postal Code\", ascending=True)\n",
    "df_loc[0:20]"
   ]
  },
  {
   "cell_type": "markdown",
   "metadata": {},
   "source": [
    "sort the location data with postal code information"
   ]
  },
  {
   "cell_type": "code",
   "execution_count": 21,
   "metadata": {
    "scrolled": true
   },
   "outputs": [
    {
     "data": {
      "text/html": [
       "<div>\n",
       "<style scoped>\n",
       "    .dataframe tbody tr th:only-of-type {\n",
       "        vertical-align: middle;\n",
       "    }\n",
       "\n",
       "    .dataframe tbody tr th {\n",
       "        vertical-align: top;\n",
       "    }\n",
       "\n",
       "    .dataframe thead th {\n",
       "        text-align: right;\n",
       "    }\n",
       "</style>\n",
       "<table border=\"1\" class=\"dataframe\">\n",
       "  <thead>\n",
       "    <tr style=\"text-align: right;\">\n",
       "      <th></th>\n",
       "      <th>Postal code</th>\n",
       "      <th>Borough</th>\n",
       "      <th>Neighborhood</th>\n",
       "    </tr>\n",
       "  </thead>\n",
       "  <tbody>\n",
       "    <tr>\n",
       "      <th>6</th>\n",
       "      <td>M1B</td>\n",
       "      <td>Scarborough</td>\n",
       "      <td>Malvern, Rouge</td>\n",
       "    </tr>\n",
       "    <tr>\n",
       "      <th>12</th>\n",
       "      <td>M1C</td>\n",
       "      <td>Scarborough</td>\n",
       "      <td>Rouge Hill, Port Union, Highland Creek</td>\n",
       "    </tr>\n",
       "    <tr>\n",
       "      <th>18</th>\n",
       "      <td>M1E</td>\n",
       "      <td>Scarborough</td>\n",
       "      <td>Guildwood, Morningside, West Hill</td>\n",
       "    </tr>\n",
       "    <tr>\n",
       "      <th>22</th>\n",
       "      <td>M1G</td>\n",
       "      <td>Scarborough</td>\n",
       "      <td>Woburn</td>\n",
       "    </tr>\n",
       "    <tr>\n",
       "      <th>26</th>\n",
       "      <td>M1H</td>\n",
       "      <td>Scarborough</td>\n",
       "      <td>Cedarbrae</td>\n",
       "    </tr>\n",
       "    <tr>\n",
       "      <th>32</th>\n",
       "      <td>M1J</td>\n",
       "      <td>Scarborough</td>\n",
       "      <td>Scarborough Village</td>\n",
       "    </tr>\n",
       "    <tr>\n",
       "      <th>38</th>\n",
       "      <td>M1K</td>\n",
       "      <td>Scarborough</td>\n",
       "      <td>Kennedy Park, Ionview, East Birchmount Park</td>\n",
       "    </tr>\n",
       "    <tr>\n",
       "      <th>44</th>\n",
       "      <td>M1L</td>\n",
       "      <td>Scarborough</td>\n",
       "      <td>Golden Mile, Clairlea, Oakridge</td>\n",
       "    </tr>\n",
       "    <tr>\n",
       "      <th>51</th>\n",
       "      <td>M1M</td>\n",
       "      <td>Scarborough</td>\n",
       "      <td>Cliffside, Cliffcrest, Scarborough Village West</td>\n",
       "    </tr>\n",
       "    <tr>\n",
       "      <th>58</th>\n",
       "      <td>M1N</td>\n",
       "      <td>Scarborough</td>\n",
       "      <td>Birch Cliff, Cliffside West</td>\n",
       "    </tr>\n",
       "    <tr>\n",
       "      <th>65</th>\n",
       "      <td>M1P</td>\n",
       "      <td>Scarborough</td>\n",
       "      <td>Dorset Park, Wexford Heights, Scarborough Town...</td>\n",
       "    </tr>\n",
       "    <tr>\n",
       "      <th>71</th>\n",
       "      <td>M1R</td>\n",
       "      <td>Scarborough</td>\n",
       "      <td>Wexford, Maryvale</td>\n",
       "    </tr>\n",
       "    <tr>\n",
       "      <th>78</th>\n",
       "      <td>M1S</td>\n",
       "      <td>Scarborough</td>\n",
       "      <td>Agincourt</td>\n",
       "    </tr>\n",
       "    <tr>\n",
       "      <th>82</th>\n",
       "      <td>M1T</td>\n",
       "      <td>Scarborough</td>\n",
       "      <td>Clarks Corners, Tam O'Shanter, Sullivan</td>\n",
       "    </tr>\n",
       "    <tr>\n",
       "      <th>85</th>\n",
       "      <td>M1V</td>\n",
       "      <td>Scarborough</td>\n",
       "      <td>Milliken, Agincourt North, Steeles East, L'Amo...</td>\n",
       "    </tr>\n",
       "    <tr>\n",
       "      <th>90</th>\n",
       "      <td>M1W</td>\n",
       "      <td>Scarborough</td>\n",
       "      <td>Steeles West, L'Amoreaux West</td>\n",
       "    </tr>\n",
       "    <tr>\n",
       "      <th>95</th>\n",
       "      <td>M1X</td>\n",
       "      <td>Scarborough</td>\n",
       "      <td>Upper Rouge</td>\n",
       "    </tr>\n",
       "    <tr>\n",
       "      <th>27</th>\n",
       "      <td>M2H</td>\n",
       "      <td>North York</td>\n",
       "      <td>Hillcrest Village</td>\n",
       "    </tr>\n",
       "    <tr>\n",
       "      <th>33</th>\n",
       "      <td>M2J</td>\n",
       "      <td>North York</td>\n",
       "      <td>Fairview, Henry Farm, Oriole</td>\n",
       "    </tr>\n",
       "    <tr>\n",
       "      <th>39</th>\n",
       "      <td>M2K</td>\n",
       "      <td>North York</td>\n",
       "      <td>Bayview Village</td>\n",
       "    </tr>\n",
       "  </tbody>\n",
       "</table>\n",
       "</div>"
      ],
      "text/plain": [
       "   Postal code      Borough                                       Neighborhood\n",
       "6          M1B  Scarborough                                     Malvern, Rouge\n",
       "12         M1C  Scarborough             Rouge Hill, Port Union, Highland Creek\n",
       "18         M1E  Scarborough                  Guildwood, Morningside, West Hill\n",
       "22         M1G  Scarborough                                             Woburn\n",
       "26         M1H  Scarborough                                          Cedarbrae\n",
       "32         M1J  Scarborough                                Scarborough Village\n",
       "38         M1K  Scarborough        Kennedy Park, Ionview, East Birchmount Park\n",
       "44         M1L  Scarborough                    Golden Mile, Clairlea, Oakridge\n",
       "51         M1M  Scarborough    Cliffside, Cliffcrest, Scarborough Village West\n",
       "58         M1N  Scarborough                        Birch Cliff, Cliffside West\n",
       "65         M1P  Scarborough  Dorset Park, Wexford Heights, Scarborough Town...\n",
       "71         M1R  Scarborough                                  Wexford, Maryvale\n",
       "78         M1S  Scarborough                                          Agincourt\n",
       "82         M1T  Scarborough            Clarks Corners, Tam O'Shanter, Sullivan\n",
       "85         M1V  Scarborough  Milliken, Agincourt North, Steeles East, L'Amo...\n",
       "90         M1W  Scarborough                      Steeles West, L'Amoreaux West\n",
       "95         M1X  Scarborough                                        Upper Rouge\n",
       "27         M2H   North York                                  Hillcrest Village\n",
       "33         M2J   North York                       Fairview, Henry Farm, Oriole\n",
       "39         M2K   North York                                    Bayview Village"
      ]
     },
     "execution_count": 21,
     "metadata": {},
     "output_type": "execute_result"
    }
   ],
   "source": [
    "df_d3 = df_d3.sort_values(by=\"Postal code\", ascending=True)\n",
    "df_d3[0:20]"
   ]
  },
  {
   "cell_type": "markdown",
   "metadata": {},
   "source": [
    "sort the neighborhoods data with postal code information"
   ]
  },
  {
   "cell_type": "code",
   "execution_count": 22,
   "metadata": {},
   "outputs": [
    {
     "data": {
      "text/html": [
       "<div>\n",
       "<style scoped>\n",
       "    .dataframe tbody tr th:only-of-type {\n",
       "        vertical-align: middle;\n",
       "    }\n",
       "\n",
       "    .dataframe tbody tr th {\n",
       "        vertical-align: top;\n",
       "    }\n",
       "\n",
       "    .dataframe thead th {\n",
       "        text-align: right;\n",
       "    }\n",
       "</style>\n",
       "<table border=\"1\" class=\"dataframe\">\n",
       "  <thead>\n",
       "    <tr style=\"text-align: right;\">\n",
       "      <th></th>\n",
       "      <th>Postal code</th>\n",
       "      <th>Borough</th>\n",
       "      <th>Neighborhood</th>\n",
       "    </tr>\n",
       "  </thead>\n",
       "  <tbody>\n",
       "    <tr>\n",
       "      <th>0</th>\n",
       "      <td>M1B</td>\n",
       "      <td>Scarborough</td>\n",
       "      <td>Malvern, Rouge</td>\n",
       "    </tr>\n",
       "    <tr>\n",
       "      <th>1</th>\n",
       "      <td>M1C</td>\n",
       "      <td>Scarborough</td>\n",
       "      <td>Rouge Hill, Port Union, Highland Creek</td>\n",
       "    </tr>\n",
       "    <tr>\n",
       "      <th>2</th>\n",
       "      <td>M1E</td>\n",
       "      <td>Scarborough</td>\n",
       "      <td>Guildwood, Morningside, West Hill</td>\n",
       "    </tr>\n",
       "  </tbody>\n",
       "</table>\n",
       "</div>"
      ],
      "text/plain": [
       "  Postal code      Borough                            Neighborhood\n",
       "0         M1B  Scarborough                          Malvern, Rouge\n",
       "1         M1C  Scarborough  Rouge Hill, Port Union, Highland Creek\n",
       "2         M1E  Scarborough       Guildwood, Morningside, West Hill"
      ]
     },
     "execution_count": 22,
     "metadata": {},
     "output_type": "execute_result"
    }
   ],
   "source": [
    "df_d3.index = range(len(df_d3))\n",
    "df_d3[0:3]"
   ]
  },
  {
   "cell_type": "markdown",
   "metadata": {},
   "source": [
    "reset index"
   ]
  },
  {
   "cell_type": "code",
   "execution_count": 23,
   "metadata": {},
   "outputs": [
    {
     "data": {
      "text/html": [
       "<div>\n",
       "<style scoped>\n",
       "    .dataframe tbody tr th:only-of-type {\n",
       "        vertical-align: middle;\n",
       "    }\n",
       "\n",
       "    .dataframe tbody tr th {\n",
       "        vertical-align: top;\n",
       "    }\n",
       "\n",
       "    .dataframe thead th {\n",
       "        text-align: right;\n",
       "    }\n",
       "</style>\n",
       "<table border=\"1\" class=\"dataframe\">\n",
       "  <thead>\n",
       "    <tr style=\"text-align: right;\">\n",
       "      <th></th>\n",
       "      <th>Postal Code</th>\n",
       "      <th>Latitude</th>\n",
       "      <th>Longitude</th>\n",
       "    </tr>\n",
       "  </thead>\n",
       "  <tbody>\n",
       "    <tr>\n",
       "      <th>0</th>\n",
       "      <td>M1B</td>\n",
       "      <td>43.806686</td>\n",
       "      <td>-79.194353</td>\n",
       "    </tr>\n",
       "    <tr>\n",
       "      <th>1</th>\n",
       "      <td>M1C</td>\n",
       "      <td>43.784535</td>\n",
       "      <td>-79.160497</td>\n",
       "    </tr>\n",
       "    <tr>\n",
       "      <th>2</th>\n",
       "      <td>M1E</td>\n",
       "      <td>43.763573</td>\n",
       "      <td>-79.188711</td>\n",
       "    </tr>\n",
       "  </tbody>\n",
       "</table>\n",
       "</div>"
      ],
      "text/plain": [
       "  Postal Code   Latitude  Longitude\n",
       "0         M1B  43.806686 -79.194353\n",
       "1         M1C  43.784535 -79.160497\n",
       "2         M1E  43.763573 -79.188711"
      ]
     },
     "execution_count": 23,
     "metadata": {},
     "output_type": "execute_result"
    }
   ],
   "source": [
    "df_loc.index = range(len(df_loc))\n",
    "df_loc[0:3]"
   ]
  },
  {
   "cell_type": "markdown",
   "metadata": {},
   "source": [
    "reset index"
   ]
  },
  {
   "cell_type": "code",
   "execution_count": 24,
   "metadata": {},
   "outputs": [
    {
     "data": {
      "text/html": [
       "<div>\n",
       "<style scoped>\n",
       "    .dataframe tbody tr th:only-of-type {\n",
       "        vertical-align: middle;\n",
       "    }\n",
       "\n",
       "    .dataframe tbody tr th {\n",
       "        vertical-align: top;\n",
       "    }\n",
       "\n",
       "    .dataframe thead th {\n",
       "        text-align: right;\n",
       "    }\n",
       "</style>\n",
       "<table border=\"1\" class=\"dataframe\">\n",
       "  <thead>\n",
       "    <tr style=\"text-align: right;\">\n",
       "      <th></th>\n",
       "      <th>Postal code</th>\n",
       "      <th>Borough</th>\n",
       "      <th>Neighborhood</th>\n",
       "      <th>Latitude</th>\n",
       "      <th>Longitude</th>\n",
       "    </tr>\n",
       "  </thead>\n",
       "  <tbody>\n",
       "    <tr>\n",
       "      <th>0</th>\n",
       "      <td>M1B</td>\n",
       "      <td>Scarborough</td>\n",
       "      <td>Malvern, Rouge</td>\n",
       "      <td>43.806686</td>\n",
       "      <td>-79.194353</td>\n",
       "    </tr>\n",
       "    <tr>\n",
       "      <th>1</th>\n",
       "      <td>M1C</td>\n",
       "      <td>Scarborough</td>\n",
       "      <td>Rouge Hill, Port Union, Highland Creek</td>\n",
       "      <td>43.784535</td>\n",
       "      <td>-79.160497</td>\n",
       "    </tr>\n",
       "    <tr>\n",
       "      <th>2</th>\n",
       "      <td>M1E</td>\n",
       "      <td>Scarborough</td>\n",
       "      <td>Guildwood, Morningside, West Hill</td>\n",
       "      <td>43.763573</td>\n",
       "      <td>-79.188711</td>\n",
       "    </tr>\n",
       "    <tr>\n",
       "      <th>3</th>\n",
       "      <td>M1G</td>\n",
       "      <td>Scarborough</td>\n",
       "      <td>Woburn</td>\n",
       "      <td>43.770992</td>\n",
       "      <td>-79.216917</td>\n",
       "    </tr>\n",
       "    <tr>\n",
       "      <th>4</th>\n",
       "      <td>M1H</td>\n",
       "      <td>Scarborough</td>\n",
       "      <td>Cedarbrae</td>\n",
       "      <td>43.773136</td>\n",
       "      <td>-79.239476</td>\n",
       "    </tr>\n",
       "    <tr>\n",
       "      <th>5</th>\n",
       "      <td>M1J</td>\n",
       "      <td>Scarborough</td>\n",
       "      <td>Scarborough Village</td>\n",
       "      <td>43.744734</td>\n",
       "      <td>-79.239476</td>\n",
       "    </tr>\n",
       "    <tr>\n",
       "      <th>6</th>\n",
       "      <td>M1K</td>\n",
       "      <td>Scarborough</td>\n",
       "      <td>Kennedy Park, Ionview, East Birchmount Park</td>\n",
       "      <td>43.727929</td>\n",
       "      <td>-79.262029</td>\n",
       "    </tr>\n",
       "    <tr>\n",
       "      <th>7</th>\n",
       "      <td>M1L</td>\n",
       "      <td>Scarborough</td>\n",
       "      <td>Golden Mile, Clairlea, Oakridge</td>\n",
       "      <td>43.711112</td>\n",
       "      <td>-79.284577</td>\n",
       "    </tr>\n",
       "    <tr>\n",
       "      <th>8</th>\n",
       "      <td>M1M</td>\n",
       "      <td>Scarborough</td>\n",
       "      <td>Cliffside, Cliffcrest, Scarborough Village West</td>\n",
       "      <td>43.716316</td>\n",
       "      <td>-79.239476</td>\n",
       "    </tr>\n",
       "    <tr>\n",
       "      <th>9</th>\n",
       "      <td>M1N</td>\n",
       "      <td>Scarborough</td>\n",
       "      <td>Birch Cliff, Cliffside West</td>\n",
       "      <td>43.692657</td>\n",
       "      <td>-79.264848</td>\n",
       "    </tr>\n",
       "  </tbody>\n",
       "</table>\n",
       "</div>"
      ],
      "text/plain": [
       "  Postal code      Borough                                     Neighborhood  \\\n",
       "0         M1B  Scarborough                                   Malvern, Rouge   \n",
       "1         M1C  Scarborough           Rouge Hill, Port Union, Highland Creek   \n",
       "2         M1E  Scarborough                Guildwood, Morningside, West Hill   \n",
       "3         M1G  Scarborough                                           Woburn   \n",
       "4         M1H  Scarborough                                        Cedarbrae   \n",
       "5         M1J  Scarborough                              Scarborough Village   \n",
       "6         M1K  Scarborough      Kennedy Park, Ionview, East Birchmount Park   \n",
       "7         M1L  Scarborough                  Golden Mile, Clairlea, Oakridge   \n",
       "8         M1M  Scarborough  Cliffside, Cliffcrest, Scarborough Village West   \n",
       "9         M1N  Scarborough                      Birch Cliff, Cliffside West   \n",
       "\n",
       "    Latitude  Longitude  \n",
       "0  43.806686 -79.194353  \n",
       "1  43.784535 -79.160497  \n",
       "2  43.763573 -79.188711  \n",
       "3  43.770992 -79.216917  \n",
       "4  43.773136 -79.239476  \n",
       "5  43.744734 -79.239476  \n",
       "6  43.727929 -79.262029  \n",
       "7  43.711112 -79.284577  \n",
       "8  43.716316 -79.239476  \n",
       "9  43.692657 -79.264848  "
      ]
     },
     "execution_count": 24,
     "metadata": {},
     "output_type": "execute_result"
    }
   ],
   "source": [
    "df_d3[[\"Latitude\",\"Longitude\"]] = df_loc[[\"Latitude\",\"Longitude\"]]\n",
    "df_d3[0:10]"
   ]
  },
  {
   "cell_type": "markdown",
   "metadata": {},
   "source": [
    "add location information to the dataframe"
   ]
  },
  {
   "cell_type": "markdown",
   "metadata": {},
   "source": [
    "Step 3 --- Explore and cluster the neighborhoods in Toronto"
   ]
  },
  {
   "cell_type": "code",
   "execution_count": 27,
   "metadata": {},
   "outputs": [],
   "source": [
    "from geopy.geocoders import Nominatim"
   ]
  },
  {
   "cell_type": "code",
   "execution_count": 28,
   "metadata": {},
   "outputs": [
    {
     "name": "stdout",
     "output_type": "stream",
     "text": [
      "The geograpical coordinate of Toronto, Ontario are 43.6534817, -79.3839347.\n"
     ]
    }
   ],
   "source": [
    "address = 'Toronto, Ontario'\n",
    "\n",
    "geolocator = Nominatim(user_agent=\"ny_explorer\")\n",
    "location = geolocator.geocode(address)\n",
    "latitude = location.latitude\n",
    "longitude = location.longitude\n",
    "print('The geograpical coordinate of Toronto, Ontario are {}, {}.'.format(latitude, longitude))"
   ]
  },
  {
   "cell_type": "markdown",
   "metadata": {},
   "source": [
    "convert the address into latitude and longitude values"
   ]
  },
  {
   "cell_type": "code",
   "execution_count": 31,
   "metadata": {},
   "outputs": [
    {
     "name": "stdout",
     "output_type": "stream",
     "text": [
      "Libraries imported.\n"
     ]
    }
   ],
   "source": [
    "#!conda install -c conda-forge folium=0.5.0 --yes # uncomment this line if you haven't completed the Foursquare API lab\n",
    "import folium # map rendering library\n",
    "\n",
    "print('Libraries imported.')"
   ]
  },
  {
   "cell_type": "code",
   "execution_count": 32,
   "metadata": {},
   "outputs": [
    {
     "data": {
      "text/html": [
       "<div style=\"width:100%;\"><div style=\"position:relative;width:100%;height:0;padding-bottom:60%;\"><iframe src=\"about:blank\" style=\"position:absolute;width:100%;height:100%;left:0;top:0;border:none !important;\" data-html=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 onload=\"this.contentDocument.open();this.contentDocument.write(atob(this.getAttribute('data-html')));this.contentDocument.close();\" allowfullscreen webkitallowfullscreen mozallowfullscreen></iframe></div></div>"
      ],
      "text/plain": [
       "<folium.folium.Map at 0x7fbfd1d7af60>"
      ]
     },
     "execution_count": 32,
     "metadata": {},
     "output_type": "execute_result"
    }
   ],
   "source": [
    "map_toronto = folium.Map(location=[latitude, longitude], zoom_start=10)\n",
    "\n",
    "# add markers to map\n",
    "for lat, lng, borough, neighborhood in zip(df_d3['Latitude'], df_d3['Longitude'], df_d3['Borough'], df_d3['Neighborhood']):\n",
    "    label = '{}, {}'.format(neighborhood, borough)\n",
    "    label = folium.Popup(label, parse_html=True)\n",
    "    folium.CircleMarker(\n",
    "        [lat, lng],\n",
    "        radius=5,\n",
    "        popup=label,\n",
    "        color='blue',\n",
    "        fill=True,\n",
    "        fill_color='#3186cc',\n",
    "        fill_opacity=0.7,\n",
    "        parse_html=False).add_to(map_toronto)  \n",
    "    \n",
    "map_toronto"
   ]
  },
  {
   "cell_type": "markdown",
   "metadata": {},
   "source": [
    "create map of New York using latitude and longitude values and add markers to map"
   ]
  },
  {
   "cell_type": "code",
   "execution_count": null,
   "metadata": {},
   "outputs": [],
   "source": []
  }
 ],
 "metadata": {
  "kernelspec": {
   "display_name": "Python 3.6",
   "language": "python",
   "name": "python3"
  },
  "language_info": {
   "codemirror_mode": {
    "name": "ipython",
    "version": 3
   },
   "file_extension": ".py",
   "mimetype": "text/x-python",
   "name": "python",
   "nbconvert_exporter": "python",
   "pygments_lexer": "ipython3",
   "version": "3.6.9"
  }
 },
 "nbformat": 4,
 "nbformat_minor": 1
}
